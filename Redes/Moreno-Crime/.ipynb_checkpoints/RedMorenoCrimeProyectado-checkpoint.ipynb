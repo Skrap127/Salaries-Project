{
 "cells": [
  {
   "cell_type": "code",
   "execution_count": 1,
   "id": "1b9a4938-e835-43e5-8c1d-0cc701113f05",
   "metadata": {},
   "outputs": [
    {
     "name": "stdout",
     "output_type": "stream",
     "text": [
      "Archivo 'aristas_con_nombres.csv' creado con éxito.\n"
     ]
    }
   ],
   "source": [
    "# Leer nombres de nodos\n",
    "with open(\"nombres.txt\", \"r\", encoding=\"utf-8\") as f:\n",
    "    nombres = [line.strip() for line in f]\n",
    "\n",
    "# Leer aristas y convertir a nombres\n",
    "aristas_con_nombres = []\n",
    "with open(\"aristas.txt\", \"r\", encoding=\"utf-8\") as f:\n",
    "    for linea in f:\n",
    "        origen_id, destino_id = map(int, linea.strip().split())\n",
    "        origen_nombre = nombres[origen_id - 1]  # -1 porque las listas empiezan en 0\n",
    "        destino_nombre = nombres[destino_id - 1]\n",
    "        aristas_con_nombres.append((origen_nombre, destino_nombre))\n",
    "\n",
    "# Escribir CSV\n",
    "import csv\n",
    "\n",
    "with open(\"aristas_con_nombres.csv\", \"w\", newline=\"\", encoding=\"utf-8\") as f:\n",
    "    writer = csv.writer(f)\n",
    "    writer.writerow([\"source\", \"target\"])\n",
    "    writer.writerows(aristas_con_nombres)\n",
    "\n",
    "print(\"Archivo 'aristas_con_nombres.csv' creado con éxito.\")\n"
   ]
  }
 ],
 "metadata": {
  "kernelspec": {
   "display_name": "Python 3 (ipykernel)",
   "language": "python",
   "name": "python3"
  },
  "language_info": {
   "codemirror_mode": {
    "name": "ipython",
    "version": 3
   },
   "file_extension": ".py",
   "mimetype": "text/x-python",
   "name": "python",
   "nbconvert_exporter": "python",
   "pygments_lexer": "ipython3",
   "version": "3.13.1"
  }
 },
 "nbformat": 4,
 "nbformat_minor": 5
}
