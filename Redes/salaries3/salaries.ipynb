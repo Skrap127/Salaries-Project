{
 "cells": [
  {
   "cell_type": "code",
   "execution_count": 39,
   "id": "009277c1-06dc-4247-b906-99eeee59f70f",
   "metadata": {},
   "outputs": [],
   "source": [
    "data = Import[\"DataScience_salaries_2023-2025.csv\", \"CSV\"];"
   ]
  },
  {
   "cell_type": "code",
   "execution_count": 40,
   "id": "f926b931-a918-48b6-af78-e0afeab62854",
   "metadata": {},
   "outputs": [],
   "source": [
    "graph = Graph[UndirectedEdge @@@ data];"
   ]
  },
  {
   "cell_type": "code",
   "execution_count": 41,
   "id": "1bc5afef-f00a-4173-8c74-f533b75f44ca",
   "metadata": {},
   "outputs": [],
   "source": [
    "partition[graph_] := \n",
    "    Module[{list, listA, listB, subList, added},\n",
    "        list = VertexList[graph];\n",
    "        listA = {list[[1]]};\n",
    "        listB = AdjacencyList[graph, list[[1]]];\n",
    "\n",
    "        (* Itera sobre los vértices restantes del grafo *)\n",
    "        For[i = 2, i <= Length[list], i++, \n",
    "            If[!MemberQ[Join[listA, listB], list[[i]]],\n",
    "                subList = AdjacencyList[graph, list[[i]]];\n",
    "                added = False;\n",
    "                (* Itera sobre los vecinos del vértice actual *)\n",
    "                For[j = 1, j <= Length[subList] && !added, j++,\n",
    "                    (* Si uno de los vecinos está en la lista A,\n",
    "                    añade el vértice a la lista B *)\n",
    "                    If[MemberQ[listA, subList[[j]]], \n",
    "                        AppendTo[listB, list[[i]]]; \n",
    "                        added = True\n",
    "                    ];\n",
    "                    (* Si uno de los vecinos está en la lista B,\n",
    "                    añade el vértice a la lista A *)\n",
    "                    If[MemberQ[listB, subList[[j]]], \n",
    "                        AppendTo[listA, list[[i]]]; \n",
    "                        added = True\n",
    "                    ]\n",
    "                ];\n",
    "                (* Si no se ha añadido el vértice a ninguna lista,\n",
    "                lo añade a la lista A por defecto *)\n",
    "                If[!added,\n",
    "                    AppendTo[listA, list[[i]]]\n",
    "                ]\n",
    "            ]\n",
    "        ];   \n",
    "        {listA, listB}\n",
    "    ]\n",
    "(* Función que verifica si un grafo es bipartito y retorna la \n",
    "partición de conjuntos si es así *)\n",
    "partitionedSets[graph_] :=\n",
    "    Module[{partitions},\n",
    "        If[BipartiteGraphQ[graph],\n",
    "            partitions = partition[graph];\n",
    "            Print[\"la longitud de los conjuntos particionados son:\"];\n",
    "            Print[\"Para U: \", Length[partitions[[1]]], \" y Para V: \", Length[partitions[[2]]]];\n",
    "            Print[\"Algunos datos son:\"];\n",
    "            Print[\"Para U:  \", RandomSample[partitions[[1]],5]];\n",
    "            Print[\"Para V:  \", RandomSample[partitions[[2]],5]],\n",
    "            \"No es un grafo bipartito\"\n",
    "        ]\n",
    "    ]\n",
    "projection[graph_, setUorV_] :=\n",
    "    Module[{projectedGraph, set, list1, list2},\n",
    "        set = Switch[setUorV,\n",
    "            U, partition[graph][[1]],\n",
    "            V, partition[graph][[2]]\n",
    "        ];\n",
    "        projectedGraph = {};\n",
    "\n",
    "        (* Itera sobre cada vértice en el conjunto seleccionado (set). *)\n",
    "        For[i = 1, i <= Length[set], i++,\n",
    "        list1 = AdjacencyList[graph, set[[i]]];\n",
    "            (* Para cada vértice j en el conjunto set, verifica si existe una intersección \n",
    "            entre los vecinos de los vértices i y j. *)\n",
    "            For[j = 1, j <= Length[set], j++,\n",
    "                If[i != j,\n",
    "                   list2 = AdjacencyList[graph, set[[j]]];\n",
    "                   (* Si los conjuntos de adyacencia de i y j tienen elementos en común (hay una intersección) \n",
    "                   y aún no se ha agregado la conexión (arista) entre ellos, se añade al grafo proyectado. *)\n",
    "                   If[Intersection[list1, list2] != {} && !EdgeQ[projectedGraph, set[[j]] <-> set[[i]]],\n",
    "                       AppendTo[projectedGraph, set[[i]] <-> set[[j]]]\n",
    "                   ]\n",
    "                ]\n",
    "            ]\n",
    "        ];\n",
    "        projectedGraph\n",
    "    ]\n",
    "\n",
    "projections[graph_, setUorV_] := \n",
    "    If[BipartiteGraphQ[graph],\n",
    "        (* Según el valor de setUorV, calcula la proyección del conjunto U o V sobre el conjunto contrario. *)\n",
    "        Switch[setUorV,\n",
    "            U, Print[\"Un subgrafo de la proyeccion del conjunto U sobre V es: \"]; \n",
    "            Graph[RandomSample[projection[graph,U], 100], GraphLayout -> \"SpringEmbedding\"],\n",
    "            V, Print[\"Un subgrafo de la proyeccion del conjunto V sobre U es: \"]; \n",
    "            Graph[RandomSample[projection[graph,V], 100], GraphLayout -> \"SpringEmbedding\"],\n",
    "            _, \"Conjunto Invalido\"\n",
    "        ],\n",
    "        \"No es un grafo bipartito\"\n",
    "    ]"
   ]
  },
  {
   "cell_type": "code",
   "execution_count": 46,
   "id": "1df3d334-c819-41aa-8337-270e0e0c24d3",
   "metadata": {},
   "outputs": [
    {
     "name": "stdout",
     "output_type": "stream",
     "text": [
      "la longitud de los conjuntos particionados son:\n",
      "Para U: 308 y Para V: 9246\n",
      "Algunos datos son:\n",
      "Para U:  {Machine Learning Developer, Data Strategist, \n",
      " \n",
      ">    Business Insights Manager, Autonomous Vehicle Technician, \n",
      " \n",
      ">    Applied Data Scientist}\n",
      "Para V:  {241700, 172343, 44294, 125800, 165928}\n"
     ]
    }
   ],
   "source": [
    "partitionedSets[graph]"
   ]
  },
  {
   "cell_type": "code",
   "execution_count": 47,
   "id": "0f8758fc-231d-4bce-b777-296f47094bb3",
   "metadata": {},
   "outputs": [],
   "source": [
    "graphU = projection[graph, U];"
   ]
  },
  {
   "cell_type": "code",
   "execution_count": 50,
   "id": "993f7db9-b52d-4f3f-a274-60b3ba88a0b6",
   "metadata": {},
   "outputs": [
    {
     "data": {
      "text/html": [
       "<div><pre style=\"&#102;&#111;&#110;&#116;&#45;&#102;&#97;&#109;&#105;&#108;&#121;&#58;&#32;&#34;&#67;&#111;&#117;&#114;&#105;&#101;&#114;&#32;&#78;&#101;&#119;&#34;&#44;&#67;&#111;&#117;&#114;&#105;&#101;&#114;&#44;&#109;&#111;&#110;&#111;&#115;&#112;&#97;&#99;&#101;&#59;\">&#50;&#57;&#53;</pre></div>"
      ],
      "text/plain": [
       "295"
      ]
     },
     "execution_count": 50,
     "metadata": {
      "text/html": [],
      "text/plain": []
     },
     "output_type": "execute_result"
    }
   ],
   "source": [
    "Length[VertexList[graphU]]"
   ]
  },
  {
   "cell_type": "code",
   "execution_count": null,
   "id": "a3fccba9-8360-42fb-ac8c-45ef0f06cb4b",
   "metadata": {},
   "outputs": [],
   "source": []
  }
 ],
 "metadata": {
  "kernelspec": {
   "display_name": "Wolfram Language 14.1",
   "language": "Wolfram Language",
   "name": "wolframlanguage14.1"
  },
  "language_info": {
   "codemirror_mode": "mathematica",
   "file_extension": ".m",
   "mimetype": "application/vnd.wolfram.m",
   "name": "Wolfram Language",
   "pygments_lexer": "mathematica",
   "version": "12.0"
  }
 },
 "nbformat": 4,
 "nbformat_minor": 5
}
