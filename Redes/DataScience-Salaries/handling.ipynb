{
 "cells": [
  {
   "cell_type": "code",
   "execution_count": 1,
   "id": "9d1845b7-fe77-4df3-9a16-0c66ba2e3641",
   "metadata": {},
   "outputs": [],
   "source": [
    "import pandas as pd\n",
    "import numpy as np\n",
    "import seaborn as sns\n",
    "import matplotlib.pyplot as plt\n",
    "df = pd.read_csv('C:/Users/crist/OneDrive/Documentos/Redes/Redes/DataScience-Salaries/tables/salaries_2020-2025.csv')"
   ]
  },
  {
   "cell_type": "code",
   "execution_count": 2,
   "id": "3b39d0cb-7da7-4e1a-8d80-cec765ab2a18",
   "metadata": {},
   "outputs": [
    {
     "name": "stdout",
     "output_type": "stream",
     "text": [
      "   work_year experience_level employment_type           job_title  salary  \\\n",
      "0       2025               MI              FT  Research Scientist  208000   \n",
      "1       2025               MI              FT  Research Scientist  147000   \n",
      "2       2025               SE              FT  Research Scientist  173000   \n",
      "3       2025               SE              FT  Research Scientist  117000   \n",
      "4       2025               MI              FT         AI Engineer  100000   \n",
      "\n",
      "  salary_currency  salary_in_usd employee_residence  remote_ratio  \\\n",
      "0             USD         208000                 US             0   \n",
      "1             USD         147000                 US             0   \n",
      "2             USD         173000                 US             0   \n",
      "3             USD         117000                 US             0   \n",
      "4             USD         100000                 US           100   \n",
      "\n",
      "  company_location company_size  \n",
      "0               US            M  \n",
      "1               US            M  \n",
      "2               US            M  \n",
      "3               US            M  \n",
      "4               US            M  \n"
     ]
    }
   ],
   "source": [
    "print(df.head())"
   ]
  },
  {
   "cell_type": "code",
   "execution_count": 3,
   "id": "8c065c15-6479-4874-882e-0898fab6e5fe",
   "metadata": {},
   "outputs": [
    {
     "name": "stdout",
     "output_type": "stream",
     "text": [
      "                             job_title  salary_in_usd\n",
      "79867                     AI Architect         800000\n",
      "13514                    Data Engineer         793136\n",
      "80710                     Data Analyst         774000\n",
      "3494         Machine Learning Engineer         750000\n",
      "84453                    Data Engineer         750000\n",
      "...                                ...            ...\n",
      "39495                       BI Analyst          15107\n",
      "92999                     Data Analyst          15000\n",
      "90074               Staff Data Analyst          15000\n",
      "92702       Machine Learning Developer          15000\n",
      "87863  Business Intelligence Developer          15000\n",
      "\n",
      "[28375 rows x 2 columns]\n"
     ]
    }
   ],
   "source": [
    "columns_delete=['work_year', 'experience_level', 'employment_type', 'salary', 'salary_currency', 'employee_residence', 'remote_ratio', 'company_location', 'company_size']\n",
    "df = df.drop(columns=columns_delete)\n",
    "df = df.drop_duplicates()\n",
    "df = df.sort_values(by='salary_in_usd', ascending=False)\n",
    "print(df)"
   ]
  },
  {
   "cell_type": "code",
   "execution_count": 4,
   "id": "a135f227-2bb6-4fe7-9c07-436c8d387959",
   "metadata": {},
   "outputs": [
    {
     "data": {
      "image/png": "[encoded data removed]",
      "text/plain": [
       "<Figure size 640x480 with 1 Axes>"
      ]
     },
     "metadata": {},
     "output_type": "display_data"
    }
   ],
   "source": [
    "sns.histplot(df['salary_in_usd'], kde=True)\n",
    "\n",
    "plt.xlabel('Salarios')\n",
    "plt.ylabel('Frecuencia')\n",
    "\n",
    "plt.show()"
   ]
  },
  {
   "cell_type": "raw",
   "id": "ad16fffa-9341-45d5-986f-a07e1bfcd903",
   "metadata": {},
   "source": [
    "df.to_csv('salaries_2020-2025(clean).csv', index = False)"
   ]
  },
  {
   "cell_type": "code",
   "execution_count": 5,
   "id": "108e779c-1ecf-4b5c-8f89-7aad5ff73cea",
   "metadata": {},
   "outputs": [
    {
     "name": "stdout",
     "output_type": "stream",
     "text": [
      "15 84\n"
     ]
    }
   ],
   "source": [
    "df['log_salary'] = np.log10(df['salary_in_usd'])\n",
    "log_salary = df['log_salary']\n",
    "\n",
    "def sturges(data):\n",
    "    num_data = len(data)\n",
    "    num_bins = int(np.log2(num_data)) + 1\n",
    "    return num_bins\n",
    "def freedman_diaconis(data):\n",
    "    num_data = len(data)\n",
    "    irq = np.percentile(data, 75) - np.percentile(data, 25)\n",
    "    bin_width = 2 * irq / np.power(num_data, 1/3)\n",
    "    num_bins = int((np.max(data) -  np.min(data)) / bin_width)  + 1\n",
    "    return num_bins\n",
    "\n",
    "k1 = sturges(log_salary)\n",
    "k = freedman_diaconis(log_salary)\n",
    "print(k1, k)"
   ]
  },
  {
   "cell_type": "code",
   "execution_count": 6,
   "id": "4b72d6aa-af7a-46b4-a0ee-850314632612",
   "metadata": {},
   "outputs": [
    {
     "name": "stdout",
     "output_type": "stream",
     "text": [
      "                             job_title  salary_in_usd  log_salary  \\\n",
      "79867                     AI Architect         800000    5.903090   \n",
      "13514                    Data Engineer         793136    5.899348   \n",
      "80710                     Data Analyst         774000    5.888741   \n",
      "3494         Machine Learning Engineer         750000    5.875061   \n",
      "84453                    Data Engineer         750000    5.875061   \n",
      "...                                ...            ...         ...   \n",
      "39495                       BI Analyst          15107    4.179178   \n",
      "92999                     Data Analyst          15000    4.176091   \n",
      "90074               Staff Data Analyst          15000    4.176091   \n",
      "92702       Machine Learning Developer          15000    4.176091   \n",
      "87863  Business Intelligence Developer          15000    4.176091   \n",
      "\n",
      "                       salary  \n",
      "79867   763010.44 to 800000.0  \n",
      "13514   763010.44 to 800000.0  \n",
      "80710   763010.44 to 800000.0  \n",
      "3494   727731.16 to 763010.44  \n",
      "84453  727731.16 to 763010.44  \n",
      "...                       ...  \n",
      "39495     15000.0 to 15727.18  \n",
      "92999     15000.0 to 15727.18  \n",
      "90074     15000.0 to 15727.18  \n",
      "92702     15000.0 to 15727.18  \n",
      "87863     15000.0 to 15727.18  \n",
      "\n",
      "[28375 rows x 4 columns]\n"
     ]
    }
   ],
   "source": [
    "bins = np.linspace(np.min(log_salary), np.max(log_salary), k+1)\n",
    "real_bins = 10 ** bins\n",
    "labels = [f'{np.round(real_bins[i], 2)} to {np.round(real_bins[i+1], 2)}' for i in range(k)]\n",
    "\n",
    "df['salary'] = pd.cut(log_salary, bins=bins, labels=labels, include_lowest=True)\n",
    "df = df.drop_duplicates()\n",
    "print(df)"
   ]
  },
  {
   "cell_type": "code",
   "execution_count": 7,
   "id": "e17278cb-7bc5-49f0-85f8-672f0090e723",
   "metadata": {},
   "outputs": [
    {
     "name": "stdout",
     "output_type": "stream",
     "text": [
      "                             job_title                  salary\n",
      "79867                     AI Architect   763010.44 to 800000.0\n",
      "13514                    Data Engineer   763010.44 to 800000.0\n",
      "80710                     Data Analyst   763010.44 to 800000.0\n",
      "3494         Machine Learning Engineer  727731.16 to 763010.44\n",
      "84453                    Data Engineer  727731.16 to 763010.44\n",
      "...                                ...                     ...\n",
      "65822    Software Development Engineer     15000.0 to 15727.18\n",
      "39495                       BI Analyst     15000.0 to 15727.18\n",
      "90074               Staff Data Analyst     15000.0 to 15727.18\n",
      "92702       Machine Learning Developer     15000.0 to 15727.18\n",
      "87863  Business Intelligence Developer     15000.0 to 15727.18\n",
      "\n",
      "[5267 rows x 2 columns]\n"
     ]
    }
   ],
   "source": [
    "columns_delete = ['salary_in_usd', 'log_salary']\n",
    "df = df.drop('salary_in_usd', axis=1)\n",
    "df = df.drop('log_salary', axis=1)\n",
    "df = df.drop_duplicates()\n",
    "print(df)"
   ]
  },
  {
   "cell_type": "raw",
   "id": "6b7bec66-ea47-4e4d-a777-6d9e1fec4072",
   "metadata": {},
   "source": [
    "df.to_csv('salaries_2020-2025(grouped_log).csv', index = False)"
   ]
  },
  {
   "cell_type": "raw",
   "id": "a3b10197-9eed-45a5-9a63-437ac57795c9",
   "metadata": {},
   "source": [
    "df1 = pd.read_csv('VertexDegree.csv')\n",
    "freedman_diaconis(df1)"
   ]
  },
  {
   "cell_type": "code",
   "execution_count": null,
   "id": "884772b8-2acd-4909-9ace-e2a87e7f38b6",
   "metadata": {},
   "outputs": [],
   "source": []
  }
 ],
 "metadata": {
  "kernelspec": {
   "display_name": "Python 3 (ipykernel)",
   "language": "python",
   "name": "python3"
  },
  "language_info": {
   "codemirror_mode": {
    "name": "ipython",
    "version": 3
   },
   "file_extension": ".py",
   "mimetype": "text/x-python",
   "name": "python",
   "nbconvert_exporter": "python",
   "pygments_lexer": "ipython3",
   "version": "3.13.1"
  }
 },
 "nbformat": 4,
 "nbformat_minor": 5
}
