{
 "cells": [
  {
   "cell_type": "code",
   "execution_count": null,
   "id": "009277c1-06dc-4247-b906-99eeee59f70f",
   "metadata": {},
   "outputs": [],
   "source": [
    "groupedData = Import[\"salaries_2020-2025(grouped).csv\", \"CSV\"];"
   ]
  },
  {
   "cell_type": "code",
   "execution_count": null,
   "id": "401908d2-1614-4690-95ad-89917ffd9811",
   "metadata": {},
   "outputs": [],
   "source": [
    "groupedData = Rest[groupedData];"
   ]
  },
  {
   "cell_type": "code",
   "execution_count": null,
   "id": "ebd4269d-7d23-4948-a130-d1ab3a16b021",
   "metadata": {},
   "outputs": [],
   "source": [
    "g = Graph[UndirectedEdge @@@ groupedData];"
   ]
  },
  {
   "cell_type": "code",
   "execution_count": null,
   "id": "568916a8-b246-472c-893f-ce6cec017541",
   "metadata": {},
   "outputs": [],
   "source": [
    "partition[graph_] := \n",
    "    Module[{list, listA, listB, subList, added},\n",
    "    list = VertexList[graph];\n",
    "        listA = {list[[1]]};\n",
    "        listB = AdjacencyList[graph, list[[1]]];\n",
    "\n",
    "        (* Itera sobre los vértices restantes del grafo *)\n",
    "        For[i = 2, i <= Length[list], i++, \n",
    "            If[!MemberQ[Join[listA, listB], list[[i]]],\n",
    "                subList = AdjacencyList[graph, list[[i]]];\n",
    "                added = False;\n",
    "                (* Itera sobre los vecinos del vértice actual *)\n",
    "                For[j = 1, j <= Length[subList] && !added, j++,\n",
    "                    (* Si uno de los vecinos está en la lista A,\n",
    "                    añade el vértice a la lista B *)\n",
    "                    If[MemberQ[listA, subList[[j]]], \n",
    "                        AppendTo[listB, list[[i]]]; \n",
    "                        added = True\n",
    "                    ];\n",
    "                    (* Si uno de los vecinos está en la lista B,\n",
    "                    añade el vértice a la lista A *)\n",
    "                    If[MemberQ[listB, subList[[j]]], \n",
    "                        AppendTo[listA, list[[i]]]; \n",
    "                        added = True\n",
    "                    ]\n",
    "                ];\n",
    "                (* Si no se ha añadido el vértice a ninguna lista,\n",
    "                lo añade a la lista A por defecto *)\n",
    "                If[!added,\n",
    "                    AppendTo[listA, list[[i]]]\n",
    "                ]\n",
    "            ]\n",
    "        ];   \n",
    "        {listA, listB}\n",
    "    ]\n",
    "(* Función que verifica si un grafo es bipartito y retorna la \n",
    "partición de conjuntos si es así *)\n",
    "partitionedSets[graph_] :=\n",
    "    Module[{partitions},\n",
    "        If[BipartiteGraphQ[graph],\n",
    "            partitions = partition[graph];\n",
    "            Print[\"la longitud de los conjuntos particionados son:\"];\n",
    "            Print[\"Para U: \", Length[partitions[[1]]], \" y Para V: \", Length[partitions[[2]]]];\n",
    "            Print[\"Algunos datos son:\"];\n",
    "            Print[\"Para U:  \", RandomSample[partitions[[1]],5]];\n",
    "            Print[\"Para V:  \", RandomSample[partitions[[2]],5]],\n",
    "            \"No es un grafo bipartito\"\n",
    "        ]\n",
    "    ]"
   ]
  },
  {
   "cell_type": "code",
   "execution_count": null,
   "id": "d06176ba-f340-4198-adaf-7041e3e6229e",
   "metadata": {},
   "outputs": [],
   "source": [
    "projection[graph_, setUorV_] :=\n",
    "    Module[{set, projectedGraph, discNodes, list1, added,list2},\n",
    "        set = Switch[setUorV,\n",
    "            U, partition[graph][[1]],\n",
    "            V, partition[graph][[2]]\n",
    "        ];\n",
    "        projectedGraph = Graph[{}];\n",
    "        (* Itera sobre cada vértice en el conjunto seleccionado (set). *)\n",
    "        For[i = 1, i <= Length[set], i++,\n",
    "        list1 = AdjacencyList[graph, set[[i]]];\n",
    "            (* Para cada vértice j en el conjunto set, verifica si existe una intersección \n",
    "            entre los vecinos de los vértices i y j. *)\n",
    "            added = False;\n",
    "            For[j = 1, i != j && j <= Length[set] && !EdgeQ[projectedGraph, set[[i]] <-> set[[j]]], j++,\n",
    "                list2 = AdjacencyList[graph, set[[j]]];\n",
    "                (* Si los conjuntos de adyacencia de i y j tienen elementos en común (hay una intersección) \n",
    "                y aún no se ha agregado la conexión (arista) entre ellos, se añade al grafo proyectado. *)\n",
    "                If[Intersection[list1, list2] != {},\n",
    "                    projectedGraph = EdgeAdd[projectedGraph, set[[i]] <-> set[[j]]];\n",
    "                    added = True\n",
    "                ]\n",
    "            ];\n",
    "            If[!added, projectedGraph = VertexAdd[projectedGraph, set[[i]]]]\n",
    "        ];\n",
    "        projectedGraph\n",
    "    ]\n",
    "projections[graph_, setUorV_] := \n",
    "    If[BipartiteGraphQ[graph],\n",
    "        (* Según el valor de setUorV, calcula la proyección del conjunto U o V sobre el conjunto contrario. *)\n",
    "        Switch[setUorV,\n",
    "            U, Print[\"Un subgrafo de la proyeccion del conjunto U sobre V es: \"]; \n",
    "            Graph[RandomSample[projection[graph,U], 100], GraphLayout -> \"SpringEmbedding\"],\n",
    "            V, Print[\"Un subgrafo de la proyeccion del conjunto V sobre U es: \"]; \n",
    "            Graph[RandomSample[projection[graph,V], 100], GraphLayout -> \"SpringEmbedding\"],\n",
    "            _, \"Conjunto Invalido\"\n",
    "        ],\n",
    "        \"No es un grafo bipartito\"\n",
    "    ]"
   ]
  },
  {
   "cell_type": "code",
   "execution_count": null,
   "id": "08636927-415b-439b-b76b-377d99717819",
   "metadata": {},
   "outputs": [],
   "source": [
    "graphU = projection[g, U];"
   ]
  },
  {
   "cell_type": "code",
   "execution_count": null,
   "id": "5e0001b2-1801-427b-baf8-fa6c03281338",
   "metadata": {},
   "outputs": [],
   "source": [
    "Length[VertexList[graphU]]"
   ]
  },
  {
   "cell_type": "code",
   "execution_count": null,
   "id": "2c3ca2b8-46c6-4707-b2c5-02b4750e2bb0",
   "metadata": {},
   "outputs": [],
   "source": [
    "projection = GraphPlot[graphU]"
   ]
  },
  {
   "cell_type": "code",
   "execution_count": 1,
   "id": "5e819c71-b469-486f-af46-a3e5606b4a7c",
   "metadata": {},
   "outputs": [],
   "source": [
    "graph = Import[\"projection.graphml\"];"
   ]
  },
  {
   "cell_type": "code",
   "execution_count": 12,
   "id": "3db105b7-97be-43b9-b585-41c7d280cc9e",
   "metadata": {},
   "outputs": [],
   "source": [
    "listMin[g_] := TakeSmallestBy[VertexList[g], VertexDegree[g, #] &, 12];"
   ]
  },
  {
   "cell_type": "code",
   "execution_count": 21,
   "id": "fd1b7ef2-b3a3-4a7b-8168-6fe08344582e",
   "metadata": {},
   "outputs": [
    {
     "data": {
      "text/html": [
       "<style>\n",
       "\t\t\t\t\t\t\t\t\t\t\t\t\t.grid-container {\n",
       "\t\t\t\t\t\t\t\t\t\t\t\t\t\tdisplay: inline-grid;\n",
       "\t\t\t\t\t\t\t\t\t\t\t\t\t\tgrid-template-columns: auto;\n",
       "\t\t\t\t\t\t\t\t\t\t\t\t\t}\n",
       "\t\t\t\t\t\t\t\t\t\t\t\t</style>\n",
       "\n",
       "\t\t\t\t\t\t\t\t\t\t\t\t<div><div class=\"grid-container\"><div class=\"grid-item\"><img alt=\"Output\" src=\"data:image/png;base64,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\"></div><div class=\"grid-item\"><img alt=\"Output\" src=\"data:image/png;base64,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\"></div></div></div>"
      ],
      "text/plain": [
       "Analytics Engineering Manager   Data Science Tech Lead   Analytics Analyst   AI Software\\\n",
       " \n",
       ">    Development Engineer   AWS Data Architect   Applied AI ML Lead   People Data\\\n",
       " \n",
       ">    Analyst   Platform Data Engineer   CRM Data Analyst   Principal Data Architect\n",
       " \n",
       ">       Cloud Data Architect   Quantitative Research Analyst\n",
       "\n",
       "14                              17                       35\n",
       " \n",
       ">    35                                 63                   73\n",
       " \n",
       ">    81                    82                       82\n",
       " \n",
       ">    82                         84                     101\n",
       "Analytics Engineering Manager      14\n",
       "\n",
       "Data Science Tech Lead             17\n",
       "\n",
       "Analytics Analyst                  35\n",
       "\n",
       "AI Software Development Engineer   35\n",
       "\n",
       "AWS Data Architect                 63\n",
       "\n",
       "Applied AI ML Lead                 73\n",
       "\n",
       "People Data Analyst                81\n",
       "\n",
       "Platform Data Engineer             82\n",
       "\n",
       "CRM Data Analyst                   82\n",
       "\n",
       "Principal Data Architect           82\n",
       "\n",
       "Cloud Data Architect               84\n",
       "\n",
       "Quantitative Research Analyst      101"
      ]
     },
     "execution_count": 22,
     "metadata": {
      "text/html": [],
      "text/plain": []
     },
     "output_type": "execute_result"
    }
   ],
   "source": [
    "l = listMin[graph];\n",
    "tableMin = Grid[\n",
    "    {l, Table[VertexDegree[graph, l[[i]]], {i, Length[l]}]}, \n",
    "    Frame -> All\n",
    "]\n",
    "tableMinDegree = Grid[Transpose[{l, Table[VertexDegree[graph, l[[i]]], {i, Length[l]}]}], Frame -> All]"
   ]
  },
  {
   "cell_type": "code",
   "execution_count": 25,
   "id": "4a22a44d-f9d0-46bc-b919-6a2c9702f4da",
   "metadata": {},
   "outputs": [
    {
     "data": {
      "text/html": [
       "<div><pre style=\"&#102;&#111;&#110;&#116;&#45;&#102;&#97;&#109;&#105;&#108;&#121;&#58;&#32;&#34;&#67;&#111;&#117;&#114;&#105;&#101;&#114;&#32;&#78;&#101;&#119;&#34;&#44;&#67;&#111;&#117;&#114;&#105;&#101;&#114;&#44;&#109;&#111;&#110;&#111;&#115;&#112;&#97;&#99;&#101;&#59;\">&#109;&#105;&#110;&#68;&#101;&#103;&#114;&#101;&#101;&#46;&#99;&#115;&#118;</pre></div>"
      ],
      "text/plain": [
       "minDegree.csv"
      ]
     },
     "execution_count": 25,
     "metadata": {
      "text/html": [],
      "text/plain": []
     },
     "output_type": "execute_result"
    }
   ],
   "source": [
    "Export[\"minDegree.csv\", tableMinDegree]"
   ]
  },
  {
   "cell_type": "code",
   "execution_count": 20,
   "id": "85e19e8f-6a41-454f-9fcd-a269cdb8d12a",
   "metadata": {},
   "outputs": [
    {
     "data": {
      "text/html": [
       "<div><img alt=\"Output\" src=\"data:image/png;base64,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\"></div>"
      ],
      "text/plain": [
       "Nombre   Yerson\n",
       "\n",
       "Edad     30\n",
       "\n",
       "País     Colombia"
      ]
     },
     "execution_count": 20,
     "metadata": {
      "text/html": [],
      "text/plain": []
     },
     "output_type": "execute_result"
    }
   ],
   "source": [
    "Grid[{\n",
    "  {\"Nombre\", \"Yerson\"},\n",
    "  {\"Edad\", 30},\n",
    "  {\"País\", \"Colombia\"}\n",
    "}, Frame -> All]"
   ]
  },
  {
   "cell_type": "code",
   "execution_count": 27,
   "id": "90e3cce8-65de-4348-99b8-98715168de5a",
   "metadata": {},
   "outputs": [
    {
     "data": {
      "text/html": [
       "<div><pre style=\"&#102;&#111;&#110;&#116;&#45;&#102;&#97;&#109;&#105;&#108;&#121;&#58;&#32;&#34;&#67;&#111;&#117;&#114;&#105;&#101;&#114;&#32;&#78;&#101;&#119;&#34;&#44;&#67;&#111;&#117;&#114;&#105;&#101;&#114;&#44;&#109;&#111;&#110;&#111;&#115;&#112;&#97;&#99;&#101;&#59;\">&#112;&#114;&#111;&#106;&#101;&#99;&#116;&#105;&#111;&#110;&#95;&#106;&#111;&#98;&#46;&#115;&#118;&#103;</pre></div>"
      ],
      "text/plain": [
       "projection_job.svg"
      ]
     },
     "execution_count": 27,
     "metadata": {
      "text/html": [],
      "text/plain": []
     },
     "output_type": "execute_result"
    }
   ],
   "source": [
    "Export[\"projection_job.svg\", GraphPlot[graph]]"
   ]
  },
  {
   "cell_type": "code",
   "execution_count": 28,
   "id": "db020ac7-aee6-480e-84a7-2d3296a159db",
   "metadata": {},
   "outputs": [
    {
     "data": {
      "text/html": [
       "<div><pre style=\"&#102;&#111;&#110;&#116;&#45;&#102;&#97;&#109;&#105;&#108;&#121;&#58;&#32;&#34;&#67;&#111;&#117;&#114;&#105;&#101;&#114;&#32;&#78;&#101;&#119;&#34;&#44;&#67;&#111;&#117;&#114;&#105;&#101;&#114;&#44;&#109;&#111;&#110;&#111;&#115;&#112;&#97;&#99;&#101;&#59;\">&#123;&#51;&#49;&#53;&#44;&#32;&#51;&#49;&#54;&#44;&#32;&#51;&#49;&#53;&#44;&#32;&#51;&#49;&#48;&#44;&#32;&#51;&#49;&#54;&#44;&#32;&#51;&#49;&#53;&#44;&#32;&#51;&#49;&#51;&#44;&#32;&#51;&#49;&#48;&#44;&#32;&#50;&#57;&#50;&#44;&#32;&#51;&#49;&#49;&#44;&#32;&#51;&#49;&#54;&#44;&#32;&#51;&#49;&#52;&#44;&#32;&#51;&#49;&#54;&#44;&#32;&#51;&#49;&#53;&#44;&#32;&#51;&#49;&#52;&#44;&#32;&#51;&#49;&#54;&#44;&#32;&#51;&#49;&#49;&#44;&#32;&#10;&#32;&#10;&#62;&#32;&#32;&#32;&#49;&#55;&#50;&#44;&#32;&#51;&#49;&#52;&#44;&#32;&#51;&#48;&#52;&#44;&#32;&#50;&#50;&#54;&#44;&#32;&#51;&#49;&#50;&#44;&#32;&#51;&#49;&#52;&#44;&#32;&#51;&#49;&#49;&#44;&#32;&#51;&#49;&#48;&#44;&#32;&#50;&#57;&#55;&#44;&#32;&#51;&#49;&#50;&#44;&#32;&#50;&#57;&#54;&#44;&#32;&#51;&#48;&#57;&#44;&#32;&#51;&#48;&#54;&#44;&#32;&#50;&#57;&#51;&#44;&#32;&#51;&#49;&#52;&#44;&#32;&#51;&#48;&#55;&#44;&#32;&#49;&#52;&#57;&#44;&#32;&#10;&#32;&#10;&#62;&#32;&#32;&#32;&#50;&#56;&#55;&#44;&#32;&#51;&#49;&#51;&#44;&#32;&#50;&#56;&#54;&#44;&#32;&#50;&#53;&#53;&#44;&#32;&#51;&#48;&#50;&#44;&#32;&#51;&#48;&#54;&#44;&#32;&#51;&#48;&#50;&#44;&#32;&#51;&#48;&#57;&#44;&#32;&#51;&#48;&#51;&#44;&#32;&#50;&#57;&#50;&#44;&#32;&#51;&#49;&#49;&#44;&#32;&#50;&#52;&#49;&#44;&#32;&#51;&#48;&#57;&#44;&#32;&#51;&#48;&#55;&#44;&#32;&#51;&#49;&#50;&#44;&#32;&#51;&#49;&#49;&#44;&#32;&#51;&#48;&#50;&#44;&#32;&#10;&#32;&#10;&#62;&#32;&#32;&#32;&#51;&#48;&#57;&#44;&#32;&#51;&#49;&#48;&#44;&#32;&#51;&#48;&#57;&#44;&#32;&#51;&#48;&#56;&#44;&#32;&#51;&#48;&#51;&#44;&#32;&#50;&#57;&#53;&#44;&#32;&#50;&#48;&#50;&#44;&#32;&#50;&#57;&#50;&#44;&#32;&#50;&#56;&#52;&#44;&#32;&#50;&#53;&#50;&#44;&#32;&#50;&#57;&#56;&#44;&#32;&#50;&#57;&#56;&#44;&#32;&#51;&#48;&#57;&#44;&#32;&#51;&#48;&#53;&#44;&#32;&#51;&#48;&#53;&#44;&#32;&#51;&#49;&#50;&#44;&#32;&#50;&#51;&#57;&#44;&#32;&#10;&#32;&#10;&#62;&#32;&#32;&#32;&#51;&#49;&#52;&#44;&#32;&#51;&#48;&#56;&#44;&#32;&#51;&#48;&#51;&#44;&#32;&#51;&#48;&#56;&#44;&#32;&#50;&#54;&#51;&#44;&#32;&#50;&#57;&#52;&#44;&#32;&#50;&#57;&#54;&#44;&#32;&#51;&#48;&#49;&#44;&#32;&#51;&#48;&#56;&#44;&#32;&#51;&#49;&#50;&#44;&#32;&#51;&#48;&#48;&#44;&#32;&#51;&#49;&#48;&#44;&#32;&#50;&#54;&#51;&#44;&#32;&#50;&#55;&#56;&#44;&#32;&#51;&#48;&#55;&#44;&#32;&#50;&#52;&#49;&#44;&#32;&#50;&#57;&#49;&#44;&#32;&#10;&#32;&#10;&#62;&#32;&#32;&#32;&#50;&#57;&#56;&#44;&#32;&#50;&#56;&#56;&#44;&#32;&#50;&#57;&#50;&#44;&#32;&#50;&#55;&#50;&#44;&#32;&#50;&#53;&#52;&#44;&#32;&#50;&#53;&#56;&#44;&#32;&#50;&#57;&#51;&#44;&#32;&#50;&#54;&#49;&#44;&#32;&#51;&#49;&#50;&#44;&#32;&#51;&#48;&#57;&#44;&#32;&#50;&#57;&#52;&#44;&#32;&#49;&#56;&#51;&#44;&#32;&#50;&#54;&#50;&#44;&#32;&#50;&#50;&#51;&#44;&#32;&#50;&#57;&#55;&#44;&#32;&#50;&#49;&#57;&#44;&#32;&#50;&#51;&#57;&#44;&#32;&#10;&#32;&#10;&#62;&#32;&#32;&#32;&#51;&#49;&#48;&#44;&#32;&#51;&#48;&#49;&#44;&#32;&#51;&#48;&#55;&#44;&#32;&#50;&#56;&#51;&#44;&#32;&#50;&#57;&#57;&#44;&#32;&#50;&#53;&#53;&#44;&#32;&#50;&#55;&#56;&#44;&#32;&#51;&#48;&#51;&#44;&#32;&#51;&#48;&#53;&#44;&#32;&#49;&#54;&#55;&#44;&#32;&#50;&#50;&#48;&#44;&#32;&#50;&#51;&#51;&#44;&#32;&#50;&#53;&#51;&#44;&#32;&#50;&#52;&#56;&#44;&#32;&#51;&#48;&#48;&#44;&#32;&#51;&#48;&#50;&#44;&#32;&#50;&#54;&#55;&#44;&#32;&#10;&#32;&#10;&#62;&#32;&#32;&#32;&#50;&#54;&#54;&#44;&#32;&#50;&#50;&#54;&#44;&#32;&#50;&#57;&#54;&#44;&#32;&#50;&#54;&#49;&#44;&#32;&#50;&#56;&#51;&#44;&#32;&#49;&#57;&#57;&#44;&#32;&#51;&#48;&#48;&#44;&#32;&#51;&#48;&#52;&#44;&#32;&#50;&#56;&#56;&#44;&#32;&#50;&#52;&#50;&#44;&#32;&#51;&#48;&#56;&#44;&#32;&#50;&#49;&#51;&#44;&#32;&#49;&#55;&#49;&#44;&#32;&#51;&#48;&#49;&#44;&#32;&#49;&#51;&#48;&#44;&#32;&#50;&#56;&#55;&#44;&#32;&#50;&#53;&#55;&#44;&#32;&#10;&#32;&#10;&#62;&#32;&#32;&#32;&#50;&#50;&#54;&#44;&#32;&#49;&#57;&#55;&#44;&#32;&#50;&#51;&#49;&#44;&#32;&#50;&#56;&#53;&#44;&#32;&#50;&#57;&#52;&#44;&#32;&#51;&#48;&#49;&#44;&#32;&#49;&#55;&#53;&#44;&#32;&#50;&#51;&#55;&#44;&#32;&#49;&#57;&#49;&#44;&#32;&#51;&#49;&#50;&#44;&#32;&#50;&#57;&#53;&#44;&#32;&#50;&#56;&#57;&#44;&#32;&#49;&#56;&#55;&#44;&#32;&#50;&#56;&#55;&#44;&#32;&#49;&#55;&#56;&#44;&#32;&#50;&#52;&#48;&#44;&#32;&#51;&#48;&#53;&#44;&#32;&#10;&#32;&#10;&#62;&#32;&#32;&#32;&#50;&#55;&#56;&#44;&#32;&#49;&#56;&#56;&#44;&#32;&#51;&#48;&#52;&#44;&#32;&#50;&#54;&#54;&#44;&#32;&#49;&#57;&#53;&#44;&#32;&#50;&#57;&#50;&#44;&#32;&#50;&#52;&#48;&#44;&#32;&#51;&#48;&#53;&#44;&#32;&#50;&#50;&#56;&#44;&#32;&#50;&#50;&#54;&#44;&#32;&#50;&#53;&#50;&#44;&#32;&#50;&#55;&#52;&#44;&#32;&#50;&#50;&#52;&#44;&#32;&#50;&#51;&#56;&#44;&#32;&#49;&#54;&#48;&#44;&#32;&#50;&#51;&#54;&#44;&#32;&#49;&#57;&#56;&#44;&#32;&#10;&#32;&#10;&#62;&#32;&#32;&#32;&#50;&#55;&#48;&#44;&#32;&#49;&#56;&#57;&#44;&#32;&#49;&#55;&#51;&#44;&#32;&#49;&#52;&#54;&#44;&#32;&#50;&#55;&#52;&#44;&#32;&#50;&#48;&#56;&#44;&#32;&#50;&#57;&#55;&#44;&#32;&#50;&#55;&#53;&#44;&#32;&#51;&#48;&#51;&#44;&#32;&#50;&#53;&#50;&#44;&#32;&#49;&#52;&#50;&#44;&#32;&#50;&#54;&#57;&#44;&#32;&#50;&#51;&#56;&#44;&#32;&#49;&#54;&#51;&#44;&#32;&#49;&#55;&#55;&#44;&#32;&#49;&#49;&#53;&#44;&#32;&#50;&#53;&#49;&#44;&#32;&#10;&#32;&#10;&#62;&#32;&#32;&#32;&#50;&#53;&#55;&#44;&#32;&#49;&#51;&#48;&#44;&#32;&#49;&#55;&#53;&#44;&#32;&#49;&#51;&#48;&#44;&#32;&#49;&#55;&#50;&#44;&#32;&#50;&#50;&#53;&#44;&#32;&#50;&#50;&#54;&#44;&#32;&#50;&#55;&#52;&#44;&#32;&#50;&#57;&#51;&#44;&#32;&#50;&#54;&#57;&#44;&#32;&#49;&#53;&#54;&#44;&#32;&#50;&#56;&#52;&#44;&#32;&#50;&#55;&#48;&#44;&#32;&#49;&#52;&#56;&#44;&#32;&#49;&#53;&#54;&#44;&#32;&#50;&#55;&#51;&#44;&#32;&#50;&#52;&#57;&#44;&#32;&#10;&#32;&#10;&#62;&#32;&#32;&#32;&#49;&#52;&#51;&#44;&#32;&#49;&#56;&#51;&#44;&#32;&#49;&#53;&#57;&#44;&#32;&#51;&#53;&#44;&#32;&#49;&#51;&#57;&#44;&#32;&#49;&#53;&#50;&#44;&#32;&#49;&#51;&#57;&#44;&#32;&#49;&#52;&#50;&#44;&#32;&#50;&#49;&#50;&#44;&#32;&#50;&#54;&#50;&#44;&#32;&#56;&#50;&#44;&#32;&#50;&#51;&#56;&#44;&#32;&#49;&#54;&#52;&#44;&#32;&#49;&#57;&#49;&#44;&#32;&#50;&#56;&#55;&#44;&#32;&#49;&#55;&#49;&#44;&#32;&#49;&#56;&#50;&#44;&#32;&#10;&#32;&#10;&#62;&#32;&#32;&#32;&#49;&#53;&#51;&#44;&#32;&#50;&#53;&#56;&#44;&#32;&#50;&#56;&#52;&#44;&#32;&#50;&#50;&#56;&#44;&#32;&#50;&#53;&#53;&#44;&#32;&#50;&#51;&#49;&#44;&#32;&#50;&#55;&#55;&#44;&#32;&#49;&#53;&#56;&#44;&#32;&#50;&#52;&#56;&#44;&#32;&#49;&#53;&#57;&#44;&#32;&#50;&#53;&#56;&#44;&#32;&#49;&#48;&#57;&#44;&#32;&#50;&#51;&#48;&#44;&#32;&#49;&#56;&#49;&#44;&#32;&#50;&#49;&#54;&#44;&#32;&#50;&#51;&#50;&#44;&#32;&#49;&#57;&#52;&#44;&#32;&#10;&#32;&#10;&#62;&#32;&#32;&#32;&#49;&#55;&#48;&#44;&#32;&#50;&#51;&#54;&#44;&#32;&#49;&#54;&#52;&#44;&#32;&#49;&#56;&#48;&#44;&#32;&#50;&#49;&#49;&#44;&#32;&#49;&#55;&#50;&#44;&#32;&#55;&#51;&#44;&#32;&#50;&#50;&#57;&#44;&#32;&#50;&#51;&#52;&#44;&#32;&#49;&#56;&#53;&#44;&#32;&#50;&#55;&#54;&#44;&#32;&#49;&#55;&#56;&#44;&#32;&#50;&#56;&#54;&#44;&#32;&#56;&#49;&#44;&#32;&#50;&#48;&#51;&#44;&#32;&#50;&#55;&#52;&#44;&#32;&#49;&#53;&#56;&#44;&#32;&#10;&#32;&#10;&#62;&#32;&#32;&#32;&#49;&#53;&#50;&#44;&#32;&#49;&#56;&#51;&#44;&#32;&#49;&#54;&#53;&#44;&#32;&#50;&#53;&#51;&#44;&#32;&#50;&#50;&#48;&#44;&#32;&#49;&#57;&#49;&#44;&#32;&#50;&#52;&#50;&#44;&#32;&#50;&#50;&#52;&#44;&#32;&#49;&#55;&#53;&#44;&#32;&#50;&#50;&#51;&#44;&#32;&#50;&#52;&#50;&#44;&#32;&#49;&#51;&#57;&#44;&#32;&#51;&#53;&#44;&#32;&#49;&#52;&#56;&#44;&#32;&#49;&#55;&#52;&#44;&#32;&#49;&#55;&#57;&#44;&#32;&#49;&#53;&#50;&#44;&#32;&#10;&#32;&#10;&#62;&#32;&#32;&#32;&#50;&#53;&#56;&#44;&#32;&#56;&#50;&#44;&#32;&#50;&#54;&#49;&#44;&#32;&#50;&#53;&#55;&#44;&#32;&#49;&#57;&#50;&#44;&#32;&#49;&#48;&#49;&#44;&#32;&#50;&#51;&#48;&#44;&#32;&#50;&#49;&#56;&#44;&#32;&#49;&#55;&#48;&#44;&#32;&#49;&#53;&#57;&#44;&#32;&#50;&#50;&#52;&#44;&#32;&#50;&#55;&#55;&#44;&#32;&#49;&#51;&#57;&#44;&#32;&#50;&#51;&#57;&#44;&#32;&#50;&#50;&#52;&#44;&#32;&#49;&#53;&#54;&#44;&#32;&#50;&#50;&#56;&#44;&#32;&#10;&#32;&#10;&#62;&#32;&#32;&#32;&#49;&#53;&#49;&#44;&#32;&#50;&#52;&#52;&#44;&#32;&#50;&#54;&#49;&#44;&#32;&#49;&#55;&#56;&#44;&#32;&#49;&#57;&#51;&#44;&#32;&#49;&#49;&#55;&#44;&#32;&#49;&#55;&#56;&#44;&#32;&#49;&#53;&#52;&#44;&#32;&#49;&#56;&#49;&#44;&#32;&#49;&#51;&#55;&#44;&#32;&#50;&#50;&#50;&#44;&#32;&#49;&#52;&#44;&#32;&#54;&#51;&#44;&#32;&#50;&#50;&#52;&#44;&#32;&#49;&#55;&#54;&#44;&#32;&#49;&#51;&#48;&#44;&#32;&#49;&#56;&#53;&#44;&#32;&#10;&#32;&#10;&#62;&#32;&#32;&#32;&#49;&#51;&#48;&#44;&#32;&#49;&#53;&#56;&#44;&#32;&#49;&#55;&#49;&#44;&#32;&#50;&#50;&#53;&#44;&#32;&#49;&#52;&#50;&#44;&#32;&#49;&#55;&#44;&#32;&#49;&#55;&#48;&#44;&#32;&#56;&#50;&#44;&#32;&#50;&#49;&#51;&#44;&#32;&#56;&#52;&#44;&#32;&#49;&#56;&#48;&#125;</pre></div>"
      ],
      "text/plain": [
       "{315, 316, 315, 310, 316, 315, 313, 310, 292, 311, 316, 314, 316, 315, 314, 316, 311, \n",
       " \n",
       ">   172, 314, 304, 226, 312, 314, 311, 310, 297, 312, 296, 309, 306, 293, 314, 307, 149, \n",
       " \n",
       ">   287, 313, 286, 255, 302, 306, 302, 309, 303, 292, 311, 241, 309, 307, 312, 311, 302, \n",
       " \n",
       ">   309, 310, 309, 308, 303, 295, 202, 292, 284, 252, 298, 298, 309, 305, 305, 312, 239, \n",
       " \n",
       ">   314, 308, 303, 308, 263, 294, 296, 301, 308, 312, 300, 310, 263, 278, 307, 241, 291, \n",
       " \n",
       ">   298, 288, 292, 272, 254, 258, 293, 261, 312, 309, 294, 183, 262, 223, 297, 219, 239, \n",
       " \n",
       ">   310, 301, 307, 283, 299, 255, 278, 303, 305, 167, 220, 233, 253, 248, 300, 302, 267, \n",
       " \n",
       ">   266, 226, 296, 261, 283, 199, 300, 304, 288, 242, 308, 213, 171, 301, 130, 287, 257, \n",
       " \n",
       ">   226, 197, 231, 285, 294, 301, 175, 237, 191, 312, 295, 289, 187, 287, 178, 240, 305, \n",
       " \n",
       ">   278, 188, 304, 266, 195, 292, 240, 305, 228, 226, 252, 274, 224, 238, 160, 236, 198, \n",
       " \n",
       ">   270, 189, 173, 146, 274, 208, 297, 275, 303, 252, 142, 269, 238, 163, 177, 115, 251, \n",
       " \n",
       ">   257, 130, 175, 130, 172, 225, 226, 274, 293, 269, 156, 284, 270, 148, 156, 273, 249, \n",
       " \n",
       ">   143, 183, 159, 35, 139, 152, 139, 142, 212, 262, 82, 238, 164, 191, 287, 171, 182, \n",
       " \n",
       ">   153, 258, 284, 228, 255, 231, 277, 158, 248, 159, 258, 109, 230, 181, 216, 232, 194, \n",
       " \n",
       ">   170, 236, 164, 180, 211, 172, 73, 229, 234, 185, 276, 178, 286, 81, 203, 274, 158, \n",
       " \n",
       ">   152, 183, 165, 253, 220, 191, 242, 224, 175, 223, 242, 139, 35, 148, 174, 179, 152, \n",
       " \n",
       ">   258, 82, 261, 257, 192, 101, 230, 218, 170, 159, 224, 277, 139, 239, 224, 156, 228, \n",
       " \n",
       ">   151, 244, 261, 178, 193, 117, 178, 154, 181, 137, 222, 14, 63, 224, 176, 130, 185, \n",
       " \n",
       ">   130, 158, 171, 225, 142, 17, 170, 82, 213, 84, 180}"
      ]
     },
     "execution_count": 28,
     "metadata": {
      "text/html": [],
      "text/plain": []
     },
     "output_type": "execute_result"
    }
   ],
   "source": [
    "VertexDegree[graph]"
   ]
  },
  {
   "cell_type": "code",
   "execution_count": 31,
   "id": "3f46200f-3334-480f-8f34-06a0ccfec9a5",
   "metadata": {},
   "outputs": [
    {
     "data": {
      "text/html": [
       "<div><img alt=\"Output\" src=\"data:image/png;base64,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\"></div>"
      ],
      "text/plain": [
       "-Graphics-"
      ]
     },
     "execution_count": 31,
     "metadata": {
      "text/html": [],
      "text/plain": []
     },
     "output_type": "execute_result"
    }
   ],
   "source": [
    "Histogram[\n",
    "  VertexDegree[graph],\n",
    "  AxesLabel -> {\"Grado\", \"Frecuencia\"},\n",
    "  ChartStyle -> \"Pastel\"\n",
    "]"
   ]
  },
  {
   "cell_type": "code",
   "execution_count": 32,
   "id": "c39ba398-a164-470a-93c7-f94ab36bc540",
   "metadata": {},
   "outputs": [
    {
     "data": {
      "text/html": [
       "<div><pre style=\"&#102;&#111;&#110;&#116;&#45;&#102;&#97;&#109;&#105;&#108;&#121;&#58;&#32;&#34;&#67;&#111;&#117;&#114;&#105;&#101;&#114;&#32;&#78;&#101;&#119;&#34;&#44;&#67;&#111;&#117;&#114;&#105;&#101;&#114;&#44;&#109;&#111;&#110;&#111;&#115;&#112;&#97;&#99;&#101;&#59;\">&#104;&#105;&#115;&#116;&#111;&#103;&#114;&#97;&#109;&#46;&#115;&#118;&#103;</pre></div>"
      ],
      "text/plain": [
       "histogram.svg"
      ]
     },
     "execution_count": 32,
     "metadata": {
      "text/html": [],
      "text/plain": []
     },
     "output_type": "execute_result"
    }
   ],
   "source": [
    "Export[\"histogram.svg\", p]"
   ]
  },
  {
   "cell_type": "code",
   "execution_count": null,
   "id": "30f5e799-e531-41df-9232-a3e82462a504",
   "metadata": {},
   "outputs": [],
   "source": []
  }
 ],
 "metadata": {
  "kernelspec": {
   "display_name": "Wolfram Language 14.2",
   "language": "Wolfram Language",
   "name": "wolframlanguage14.2"
  },
  "language_info": {
   "codemirror_mode": "mathematica",
   "file_extension": ".m",
   "mimetype": "application/vnd.wolfram.m",
   "name": "Wolfram Language",
   "pygments_lexer": "mathematica",
   "version": "12.0"
  }
 },
 "nbformat": 4,
 "nbformat_minor": 5
}
