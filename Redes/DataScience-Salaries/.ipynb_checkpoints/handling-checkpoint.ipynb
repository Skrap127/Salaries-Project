{
 "cells": [
  {
   "cell_type": "code",
   "execution_count": 1,
   "id": "9d1845b7-fe77-4df3-9a16-0c66ba2e3641",
   "metadata": {},
   "outputs": [],
   "source": [
    "import pandas as pd\n",
    "import numpy as np\n",
    "df = pd.read_csv('salaries_2020-2025.csv')"
   ]
  },
  {
   "cell_type": "code",
   "execution_count": 2,
   "id": "3b39d0cb-7da7-4e1a-8d80-cec765ab2a18",
   "metadata": {},
   "outputs": [
    {
     "name": "stdout",
     "output_type": "stream",
     "text": [
      "   work_year experience_level employment_type           job_title  salary  \\\n",
      "0       2025               MI              FT  Research Scientist  208000   \n",
      "1       2025               MI              FT  Research Scientist  147000   \n",
      "2       2025               SE              FT  Research Scientist  173000   \n",
      "3       2025               SE              FT  Research Scientist  117000   \n",
      "4       2025               MI              FT         AI Engineer  100000   \n",
      "\n",
      "  salary_currency  salary_in_usd employee_residence  remote_ratio  \\\n",
      "0             USD         208000                 US             0   \n",
      "1             USD         147000                 US             0   \n",
      "2             USD         173000                 US             0   \n",
      "3             USD         117000                 US             0   \n",
      "4             USD         100000                 US           100   \n",
      "\n",
      "  company_location company_size  \n",
      "0               US            M  \n",
      "1               US            M  \n",
      "2               US            M  \n",
      "3               US            M  \n",
      "4               US            M  \n"
     ]
    }
   ],
   "source": [
    "print(df.head())"
   ]
  },
  {
   "cell_type": "code",
   "execution_count": 3,
   "id": "8c065c15-6479-4874-882e-0898fab6e5fe",
   "metadata": {},
   "outputs": [
    {
     "name": "stdout",
     "output_type": "stream",
     "text": [
      "            job_title  salary_in_usd\n",
      "0  Research Scientist         208000\n",
      "1  Research Scientist         147000\n",
      "2  Research Scientist         173000\n",
      "3  Research Scientist         117000\n",
      "4         AI Engineer         100000\n"
     ]
    }
   ],
   "source": [
    "columns_delete=['work_year', 'experience_level', 'employment_type', 'salary', 'salary_currency', 'employee_residence', 'remote_ratio', 'company_location', 'company_size']\n",
    "df = df.drop(columns=columns_delete)\n",
    "df = df.drop_duplicates()\n",
    "\n",
    "print(df.head())"
   ]
  },
  {
   "cell_type": "code",
   "execution_count": 4,
   "id": "06891947-8eae-4f62-b6a5-ecf292f48d0e",
   "metadata": {},
   "outputs": [],
   "source": [
    "df.to_csv('salaries_2020-2025(clean).csv', index = False)"
   ]
  },
  {
   "cell_type": "code",
   "execution_count": 5,
   "id": "108e779c-1ecf-4b5c-8f89-7aad5ff73cea",
   "metadata": {},
   "outputs": [
    {
     "name": "stdout",
     "output_type": "stream",
     "text": [
      "195\n"
     ]
    }
   ],
   "source": [
    "salaries = df['salary_in_usd']\n",
    "\n",
    "def freedman_diaconis(data):\n",
    "    num_data = len(data)\n",
    "    irq = np.percentile(data, 75) - np.percentile(data, 25)\n",
    "    bin_width = 2 * irq / np.power(num_data, 1/3)\n",
    "    num_bins = int((np.max(data) -  np.min(data)) / bin_width)  + 1\n",
    "    return num_bins\n",
    "\n",
    "k = freedman_diaconis(salaries)\n",
    "print(k)"
   ]
  },
  {
   "cell_type": "code",
   "execution_count": 6,
   "id": "4b72d6aa-af7a-46b4-a0ee-850314632612",
   "metadata": {},
   "outputs": [
    {
     "name": "stdout",
     "output_type": "stream",
     "text": [
      "            job_title  salary_in_usd                  salary\n",
      "0  Research Scientist         208000  204205.13 to 208230.77\n",
      "1  Research Scientist         147000  143820.51 to 147846.15\n",
      "2  Research Scientist         173000   172000.0 to 176025.64\n",
      "3  Research Scientist         117000  115641.03 to 119666.67\n",
      "4         AI Engineer         100000    99538.46 to 103564.1\n"
     ]
    }
   ],
   "source": [
    "bins = np.linspace(np.min(salaries), np.max(salaries), k+1)\n",
    "labels = [f'{np.round(bins[i], 2)} to {np.round(bins[i+1], 2)}' for i in range(k)]\n",
    "\n",
    "df['salary'] = pd.cut(salaries, bins=bins, labels=labels, include_lowest=True).astype(str)\n",
    "\n",
    "print(df.head())"
   ]
  },
  {
   "cell_type": "code",
   "execution_count": 7,
   "id": "f3cbc034-9d1a-4fe6-90fb-a54895cffbf1",
   "metadata": {},
   "outputs": [
    {
     "name": "stdout",
     "output_type": "stream",
     "text": [
      "            job_title                  salary\n",
      "0  Research Scientist  204205.13 to 208230.77\n",
      "1  Research Scientist  143820.51 to 147846.15\n",
      "2  Research Scientist   172000.0 to 176025.64\n",
      "3  Research Scientist  115641.03 to 119666.67\n",
      "4         AI Engineer    99538.46 to 103564.1\n"
     ]
    }
   ],
   "source": [
    "df = df.drop('salary_in_usd', axis=1)\n",
    "df = df.drop_duplicates()\n",
    "print(df.head())"
   ]
  },
  {
   "cell_type": "code",
   "execution_count": 8,
   "id": "e2b8db13-e831-446b-8ed0-ef11170e0681",
   "metadata": {},
   "outputs": [],
   "source": [
    "df.to_csv('salaries_2020-2025(grouped).csv', index = False)"
   ]
  }
 ],
 "metadata": {
  "kernelspec": {
   "display_name": "Python 3 (ipykernel)",
   "language": "python",
   "name": "python3"
  },
  "language_info": {
   "codemirror_mode": {
    "name": "ipython",
    "version": 3
   },
   "file_extension": ".py",
   "mimetype": "text/x-python",
   "name": "python",
   "nbconvert_exporter": "python",
   "pygments_lexer": "ipython3",
   "version": "3.13.1"
  }
 },
 "nbformat": 4,
 "nbformat_minor": 5
}
