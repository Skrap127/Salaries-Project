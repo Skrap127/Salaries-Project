{
 "cells": [
  {
   "cell_type": "code",
   "execution_count": 1,
   "id": "9d1845b7-fe77-4df3-9a16-0c66ba2e3641",
   "metadata": {},
   "outputs": [],
   "source": [
    "import pandas as pd\n",
    "import numpy as np\n",
    "df = pd.read_csv('C:/Users/crist/OneDrive/Documentos/Redes/Redes/DataScience-Salaries/Project/tables/salaries_2020-2025.csv')"
   ]
  },
  {
   "cell_type": "code",
   "execution_count": 2,
   "id": "3b39d0cb-7da7-4e1a-8d80-cec765ab2a18",
   "metadata": {},
   "outputs": [
    {
     "name": "stdout",
     "output_type": "stream",
     "text": [
      "   work_year experience_level employment_type           job_title  salary  \\\n",
      "0       2025               MI              FT  Research Scientist  208000   \n",
      "1       2025               MI              FT  Research Scientist  147000   \n",
      "2       2025               SE              FT  Research Scientist  173000   \n",
      "3       2025               SE              FT  Research Scientist  117000   \n",
      "4       2025               MI              FT         AI Engineer  100000   \n",
      "\n",
      "  salary_currency  salary_in_usd employee_residence  remote_ratio  \\\n",
      "0             USD         208000                 US             0   \n",
      "1             USD         147000                 US             0   \n",
      "2             USD         173000                 US             0   \n",
      "3             USD         117000                 US             0   \n",
      "4             USD         100000                 US           100   \n",
      "\n",
      "  company_location company_size  \n",
      "0               US            M  \n",
      "1               US            M  \n",
      "2               US            M  \n",
      "3               US            M  \n",
      "4               US            M  \n"
     ]
    }
   ],
   "source": [
    "print(df.head())"
   ]
  },
  {
   "cell_type": "code",
   "execution_count": 3,
   "id": "8c065c15-6479-4874-882e-0898fab6e5fe",
   "metadata": {},
   "outputs": [
    {
     "name": "stdout",
     "output_type": "stream",
     "text": [
      "                                job_title  salary_in_usd\n",
      "0                      Research Scientist         208000\n",
      "1                      Research Scientist         147000\n",
      "2                      Research Scientist         173000\n",
      "3                      Research Scientist         117000\n",
      "4                             AI Engineer         100000\n",
      "...                                   ...            ...\n",
      "93589  Applied Machine Learning Scientist         423000\n",
      "93590                       Data Engineer          28369\n",
      "93592                      Data Scientist         412000\n",
      "93593            Principal Data Scientist         151000\n",
      "93596                      Data Scientist          94665\n",
      "\n",
      "[28375 rows x 2 columns]\n"
     ]
    }
   ],
   "source": [
    "columns_delete=['work_year', 'experience_level', 'employment_type', 'salary', 'salary_currency', 'employee_residence', 'remote_ratio', 'company_location', 'company_size']\n",
    "df = df.drop(columns=columns_delete)\n",
    "df = df.drop_duplicates()\n",
    "\n",
    "print(df)"
   ]
  },
  {
   "cell_type": "raw",
   "id": "ad16fffa-9341-45d5-986f-a07e1bfcd903",
   "metadata": {},
   "source": [
    "df.to_csv('salaries_2020-2025(clean).csv', index = False)"
   ]
  },
  {
   "cell_type": "code",
   "execution_count": 4,
   "id": "108e779c-1ecf-4b5c-8f89-7aad5ff73cea",
   "metadata": {},
   "outputs": [
    {
     "name": "stdout",
     "output_type": "stream",
     "text": [
      "121\n"
     ]
    }
   ],
   "source": [
    "salaries = df['salary_in_usd']\n",
    "\n",
    "def freedman_diaconis(data):\n",
    "    num_data = len(data)\n",
    "    irq = np.percentile(data, 75) - np.percentile(data, 25)\n",
    "    bin_width = 2 * irq / np.power(num_data, 1/3)\n",
    "    num_bins = int((np.max(data) -  np.min(data)) / bin_width)  + 1\n",
    "    return num_bins\n",
    "\n",
    "k = freedman_diaconis(salaries)\n",
    "print(k)"
   ]
  },
  {
   "cell_type": "code",
   "execution_count": 5,
   "id": "4b72d6aa-af7a-46b4-a0ee-850314632612",
   "metadata": {},
   "outputs": [
    {
     "name": "stdout",
     "output_type": "stream",
     "text": [
      "                                job_title                  salary\n",
      "0                      Research Scientist    203140.5 to 209628.1\n",
      "1                      Research Scientist  144752.07 to 151239.67\n",
      "2                      Research Scientist  170702.48 to 177190.08\n",
      "3                      Research Scientist  112314.05 to 118801.65\n",
      "4                             AI Engineer   99338.84 to 105826.45\n",
      "...                                   ...                     ...\n",
      "93559                Finance Data Analyst    60413.22 to 66900.83\n",
      "93568            Principal Data Scientist  170702.48 to 177190.08\n",
      "93569            Principal Data Scientist  144752.07 to 151239.67\n",
      "93576            Principal Data Scientist  229090.91 to 235578.51\n",
      "93589  Applied Machine Learning Scientist   417231.4 to 423719.01\n",
      "\n",
      "[5135 rows x 2 columns]\n"
     ]
    }
   ],
   "source": [
    "bins = np.linspace(np.min(salaries), np.max(salaries), k+1)\n",
    "labels = [f'{np.round(bins[i], 2)} to {np.round(bins[i+1], 2)}' for i in range(k)]\n",
    "\n",
    "df['salary'] = pd.cut(salaries, bins=bins, labels=labels, include_lowest=True).astype(str)\n",
    "df = df.drop('salary_in_usd', axis=1)\n",
    "df = df.drop_duplicates()\n",
    "print(df)"
   ]
  },
  {
   "cell_type": "code",
   "execution_count": 7,
   "id": "e17278cb-7bc5-49f0-85f8-672f0090e723",
   "metadata": {},
   "outputs": [
    {
     "name": "stdout",
     "output_type": "stream",
     "text": [
      "317 101\n"
     ]
    }
   ],
   "source": [
    "job = df['job_title']\n",
    "salary = df['salary']\n",
    "n1 = len(job.drop_duplicates())\n",
    "n2 = len(salary.drop_duplicates())\n",
    "print(n1, n2)"
   ]
  },
  {
   "cell_type": "raw",
   "id": "8d3ddfb5-332d-4c17-9493-50275eeafb44",
   "metadata": {},
   "source": [
    "df.to_csv('salaries_2020-2025(grouped).csv', index = False)"
   ]
  }
 ],
 "metadata": {
  "kernelspec": {
   "display_name": "Python 3 (ipykernel)",
   "language": "python",
   "name": "python3"
  },
  "language_info": {
   "codemirror_mode": {
    "name": "ipython",
    "version": 3
   },
   "file_extension": ".py",
   "mimetype": "text/x-python",
   "name": "python",
   "nbconvert_exporter": "python",
   "pygments_lexer": "ipython3",
   "version": "3.13.1"
  }
 },
 "nbformat": 4,
 "nbformat_minor": 5
}
