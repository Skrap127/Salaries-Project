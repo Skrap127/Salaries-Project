{
 "cells": [
  {
   "cell_type": "code",
   "execution_count": 14,
   "id": "5e47d2c7-f861-44f6-b871-c108a8f53a66",
   "metadata": {},
   "outputs": [],
   "source": [
    "partition[graph_] := \n",
    "    Module[{list, listA, listB, subList, added},\n",
    "    list = VertexList[graph];\n",
    "        listA = {list[[1]]};\n",
    "        listB = AdjacencyList[graph, list[[1]]];\n",
    "\n",
    "        (* Itera sobre los vértices restantes del grafo *)\n",
    "        For[i = 2, i <= Length[list], i++, \n",
    "            If[!MemberQ[Join[listA, listB], list[[i]]],\n",
    "                subList = AdjacencyList[graph, list[[i]]];\n",
    "                added = False;\n",
    "                (* Itera sobre los vecinos del vértice actual *)\n",
    "                For[j = 1, j <= Length[subList] && !added, j++,\n",
    "                    (* Si uno de los vecinos está en la lista A,\n",
    "                    añade el vértice a la lista B *)\n",
    "                    If[MemberQ[listA, subList[[j]]], \n",
    "                        AppendTo[listB, list[[i]]]; \n",
    "                        added = True\n",
    "                    ];\n",
    "                    (* Si uno de los vecinos está en la lista B,\n",
    "                    añade el vértice a la lista A *)\n",
    "                    If[MemberQ[listB, subList[[j]]], \n",
    "                        AppendTo[listA, list[[i]]]; \n",
    "                        added = True\n",
    "                    ]\n",
    "                ];\n",
    "                (* Si no se ha añadido el vértice a ninguna lista,\n",
    "                lo añade a la lista A por defecto *)\n",
    "                If[!added,\n",
    "                    AppendTo[listA, list[[i]]]\n",
    "                ]\n",
    "            ]\n",
    "        ];   \n",
    "        {listA, listB}\n",
    "    ]\n",
    "(* Función que verifica si un grafo es bipartito y retorna la \n",
    "partición de conjuntos si es así *)\n",
    "partitionedSets[graph_] :=\n",
    "    Module[{partitions},\n",
    "        If[BipartiteGraphQ[graph],\n",
    "            partitions = partition[graph];\n",
    "            Print[\"la longitud de los conjuntos particionados son:\"];\n",
    "            Print[\"Para U: \", Length[partitions[[1]]], \" y Para V: \", Length[partitions[[2]]]];\n",
    "            Print[\"Algunos datos son:\"];\n",
    "            Print[\"Para U:  \", RandomSample[partitions[[1]],5]];\n",
    "            Print[\"Para V:  \", partitions[[2]]],\n",
    "            \"No es un grafo bipartito\"\n",
    "        ]\n",
    "    ]"
   ]
  },
  {
   "cell_type": "code",
   "execution_count": 17,
   "id": "ad79f2d0-89f3-42b3-9ae9-c364b7e42654",
   "metadata": {},
   "outputs": [],
   "source": [
    "projection[graph_, setUorV_] :=\n",
    "    Module[{projectedGraph, set, list1, list2},\n",
    "        set = Switch[setUorV,\n",
    "            U, partition[graph][[1]],\n",
    "            V, partition[graph][[2]]\n",
    "        ];\n",
    "        projectedGraph = {};\n",
    "\n",
    "        (* Itera sobre cada vértice en el conjunto seleccionado (set). *)\n",
    "        For[i = 1, i <= Length[set], i++,\n",
    "        list1 = AdjacencyList[graph, set[[i]]];\n",
    "            (* Para cada vértice j en el conjunto set, verifica si existe una intersección \n",
    "            entre los vecinos de los vértices i y j. *)\n",
    "            For[j = 1, j <= Length[set] && i != j && !MemberQ[projectedGraph, set[[i]] <-> set[[j]]], j++,\n",
    "                list2 = AdjacencyList[graph, set[[j]]];\n",
    "                (* Si los conjuntos de adyacencia de i y j tienen elementos en común (hay una intersección) \n",
    "                y aún no se ha agregado la conexión (arista) entre ellos, se añade al grafo proyectado. *)\n",
    "                If[Intersection[list1, list2] != {},\n",
    "                    AppendTo[projectedGraph, set[[i]] <-> set[[j]]]\n",
    "                ]\n",
    "            ]\n",
    "        ];\n",
    "        projectedGraph\n",
    "    ]\n",
    "\n",
    "projections[graph_, setUorV_] := \n",
    "    If[BipartiteGraphQ[graph],\n",
    "        (* Según el valor de setUorV, calcula la proyección del conjunto U o V sobre el conjunto contrario. *)\n",
    "        Switch[setUorV,\n",
    "            U, Print[\"Un subgrafo de la proyeccion del conjunto U sobre V es: \"]; \n",
    "            Graph[RandomSample[projection[graph,U], 100], GraphLayout -> \"SpringEmbedding\"],\n",
    "            V, Print[\"Un subgrafo de la proyeccion del conjunto V sobre U es: \"]; \n",
    "            Graph[RandomSample[projection[graph,V], 100], GraphLayout -> \"SpringEmbedding\"],\n",
    "            _, \"Conjunto Invalido\"\n",
    "        ],\n",
    "        \"No es un grafo bipartito\"\n",
    "    ]"
   ]
  },
  {
   "cell_type": "code",
   "execution_count": 19,
   "id": "27dd2ec8-9a10-4141-890a-47b46f8db39d",
   "metadata": {},
   "outputs": [
    {
     "data": {
      "text/html": [
       "<style>\n",
       "\t\t\t\t\t\t\t\t\t\t\t\t\t.grid-container {\n",
       "\t\t\t\t\t\t\t\t\t\t\t\t\t\tdisplay: inline-grid;\n",
       "\t\t\t\t\t\t\t\t\t\t\t\t\t\tgrid-template-columns: auto;\n",
       "\t\t\t\t\t\t\t\t\t\t\t\t\t}\n",
       "\t\t\t\t\t\t\t\t\t\t\t\t</style>\n",
       "\n",
       "\t\t\t\t\t\t\t\t\t\t\t\t<div><div class=\"grid-container\"><div class=\"grid-item\"><img alt=\"Output\" src=\"data:image/png;base64,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\"></div><div class=\"grid-item\"><img alt=\"Output\" src=\"data:image/png;base64,iVBORw0KGgoAAAANSUhEUgAAACcAAAAVCAIAAABKc2DEAAAA0HpUWHRSYXcgcHJvZmlsZSB0eXBlIGV4aWYAAHjabU9bDsMgDPvnFDtCXjhwHNpSaTfY8RcK2tRplkiMcQyk/nqe6TEgTMmyF1SAAlatSgtSaGJ2pnrVC+LrjO964rz0FlL+HqAvfbvrjhVYfoJIJtFxQ3C1NbCCVKbObe635ZdWyi3o3M4L68EE+jz9797UBRnsFtWE3FGDlxQ0GrJQdpzYgTAyDiHbo3e4xxh8OLSNwQHpfnf3BA3hGF/QsbK26DZrjLLqxSMkOMsRbHrGd95fBFwj+93XcgAAAAlwSFlzAAAOxAAADsQBlSsOGwAAADx0RVh0U29mdHdhcmUAQ3JlYXRlZCB3aXRoIHRoZSBXb2xmcmFtIExhbmd1YWdlIDogd3d3LndvbGZyYW0uY29tXKKmhQAAACF0RVh0Q3JlYXRpb24gVGltZQAyMDI1OjA0OjA0IDEzOjAwOjExRUomqwAAARtJREFUSEvtlb0NgzAQhUPGoARmcMUAjEBJCwNQMQGihg2AGWhBbAGrkIdOsi7IESYWJAUuLP+c/dnvncFaluVxeXleTlyBN/Vs2VeFPc+zVGWe57PwyGFZ4jh2XZePnNT+12xq2xbyQ+ogCMiHJElI+WEY0EUtjUA3z3PZhUfcOjmue1csjqIIgvd9X1UVJ33yHkj4hXiyCfbR6Q+816ZpwjDEAt/3UY/juJtoRVGARPEoZVmihnIHqEIIicHB0zTdpXZdB1WMFN5lKANw180rIMF0fVVuats2H9+8b3wGcF3lQiOq4zjYtK5r2hq5wxlZlk3TJBOeTxlRsRGlNJmHNgcjj/gsxRDbuv+v36Ws9ipTX7VBb4G/ob4AKfHeDPkRiSAAAAAASUVORK5CYII=\"></div></div></div>"
      ],
      "text/plain": [
       "Graph[<11>, <12>]\n",
       "True"
      ]
     },
     "execution_count": 20,
     "metadata": {
      "text/html": [],
      "text/plain": []
     },
     "output_type": "execute_result"
    }
   ],
   "source": [
    "g = {\"A\" <-> \"P1\", \"A\" <-> \"P3\", \"B\" <-> \"P1\", \"B\" <-> \"P2\", \"C\" <-> \"P2\", \"C\" <-> \"P3\", \"D\" <-> \"P3\", \"D\" <-> \"P4\", \"E\" <-> \"P1\", \"E\" <-> \"P4\", \"F\" <-> \"P2\", \"G\" <-> \"P3\"};\n",
    "graph = Graph[graph, VertexLabels -> \"Name\"]\n",
    "BipartiteGraphQ[graph]"
   ]
  },
  {
   "cell_type": "code",
   "execution_count": 23,
   "id": "bd2c843a-b9c4-43e8-bb1c-eb780f06ada1",
   "metadata": {},
   "outputs": [
    {
     "name": "stdout",
     "output_type": "stream",
     "text": [
      "la longitud de los conjuntos particionados son:\n",
      "Para U: 7 y Para V: 4\n",
      "Algunos datos son:\n",
      "Para U:  {A, B, E, F, D}\n",
      "Para V:  {P1, P3, P2, P4}\n"
     ]
    }
   ],
   "source": [
    "partitionedSets[graph]"
   ]
  },
  {
   "cell_type": "code",
   "execution_count": null,
   "id": "3a013f63-a480-484e-a220-56594c328dbc",
   "metadata": {},
   "outputs": [],
   "source": []
  }
 ],
 "metadata": {
  "kernelspec": {
   "display_name": "Wolfram Language 14.2",
   "language": "Wolfram Language",
   "name": "wolframlanguage14.2"
  },
  "language_info": {
   "codemirror_mode": "mathematica",
   "file_extension": ".m",
   "mimetype": "application/vnd.wolfram.m",
   "name": "Wolfram Language",
   "pygments_lexer": "mathematica",
   "version": "12.0"
  }
 },
 "nbformat": 4,
 "nbformat_minor": 5
}
