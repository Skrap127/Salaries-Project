{
 "cells": [
  {
   "cell_type": "code",
   "execution_count": 23,
   "id": "009277c1-06dc-4247-b906-99eeee59f70f",
   "metadata": {},
   "outputs": [],
   "source": [
    "data = Import[\"tables/salaries_2020-2025(clean).csv\", \"CSV\"];\n",
    "groupedData = Import[\"tables/salaries_2020-2025(grouped_log).csv\", \"CSV\"];"
   ]
  },
  {
   "cell_type": "code",
   "execution_count": 25,
   "id": "401908d2-1614-4690-95ad-89917ffd9811",
   "metadata": {},
   "outputs": [],
   "source": [
    "data = Rest[data];\n",
    "groupedData = Rest[groupedData];"
   ]
  },
  {
   "cell_type": "code",
   "execution_count": 27,
   "id": "ebd4269d-7d23-4948-a130-d1ab3a16b021",
   "metadata": {},
   "outputs": [],
   "source": [
    "graph1 = Graph[UndirectedEdge @@@ data];\n",
    "graph2 = Graph[UndirectedEdge @@@ groupedData];"
   ]
  },
  {
   "cell_type": "raw",
   "id": "c3767c90-8861-404a-95f5-0ad7aed2e73e",
   "metadata": {},
   "source": [
    "Export[\"BipartiteGraph.svg\", graph1]\n",
    "Export[\"BipartiteGraph(grouped_log).svg\", graph2]"
   ]
  },
  {
   "cell_type": "code",
   "execution_count": 16,
   "id": "568916a8-b246-472c-893f-ce6cec017541",
   "metadata": {},
   "outputs": [],
   "source": [
    "partition[g_] := Module[{vertex, u, v, c, list},\n",
    "  vertex = VertexList[g]; \n",
    "  u = {};\n",
    "  v = {};\n",
    "  c = Complement[vertex, Join[u, v]]; (* Vértices que no están en u ni en v *)\n",
    "  \n",
    "  While[c != {}, (* Mientras haya vértices no asignados *)\n",
    "    list = GraphDistance[g, c[[1]]]; (* Distancias de c[[1]] a todos los vértices *)\n",
    "    \n",
    "    (* Iteramos sobre la lista de distancias *)\n",
    "    For[j = 1, j <= Length[list], j++,\n",
    "      If[NumericQ[list[[j]]], (* Verificamos si la distancia es numérica *)\n",
    "        If[EvenQ[list[[j]]], \n",
    "          AppendTo[u, vertex[[j]]], (* Si la distancia es par, lo asignamos a u *)\n",
    "          AppendTo[v, vertex[[j]]]  (* Si la distancia es impar, lo asignamos a v *)\n",
    "        ]\n",
    "      ]\n",
    "    ];\n",
    "    \n",
    "    c = Complement[vertex, Join[u, v]] (* Actualizamos c con los vértices no asignados *)\n",
    "  ];\n",
    "  \n",
    "  {u, v} (* Devolvemos los dos conjuntos de vértices *)\n",
    "]"
   ]
  },
  {
   "cell_type": "code",
   "execution_count": 35,
   "id": "d06176ba-f340-4198-adaf-7041e3e6229e",
   "metadata": {},
   "outputs": [],
   "source": [
    "projection[graph_, setUorV_] :=\n",
    "  Module[{set, l,projectedGraph, list, list1, added, list2},\n",
    "  \n",
    "    set = Switch[setUorV,\n",
    "      U, partition[graph][[1]],\n",
    "      V, partition[graph][[2]]\n",
    "    ];\n",
    "    l = Length[set];\n",
    "    projectedGraph = Graph[{}];\n",
    "    (* Lista de vecinos de cada vértice del conjunto seleccionado *)\n",
    "    list = AdjacencyList[graph, #] & /@ set;\n",
    "    (* Itera sobre cada vértice en el conjunto seleccionado (set). *)\n",
    "    For[i = 1, i <= l, i++,\n",
    "      \n",
    "      list1 = list[[i]];\n",
    "      added = False;\n",
    "      \n",
    "      (* Verifica si hay intersección entre vecinos de i y j *)\n",
    "      For[j = i + 1, j <= l, j++,\n",
    "        list2 = list[[j]];\n",
    "        \n",
    "          If[Intersection[list1, list2] != {},\n",
    "            projectedGraph = EdgeAdd[projectedGraph, set[[i]] <-> set[[j]]];\n",
    "            added = True\n",
    "          ]\n",
    "        \n",
    "      ];\n",
    "      \n",
    "      (* Si el vértice no fue conectado a nadie, se agrega como nodo aislado *)\n",
    "      If[!added,\n",
    "        projectedGraph = VertexAdd[projectedGraph, set[[i]]]\n",
    "      ]\n",
    "    ];\n",
    "    \n",
    "    projectedGraph\n",
    "  ]"
   ]
  },
  {
   "cell_type": "code",
   "execution_count": 30,
   "id": "f43a9bc2-c66f-4ea7-8968-0977b1db1a6e",
   "metadata": {},
   "outputs": [
    {
     "data": {
      "text/html": [
       "<style>\n",
       "\t\t\t\t\t\t\t\t\t\t\t\t\t.grid-container {\n",
       "\t\t\t\t\t\t\t\t\t\t\t\t\t\tdisplay: inline-grid;\n",
       "\t\t\t\t\t\t\t\t\t\t\t\t\t\tgrid-template-columns: auto;\n",
       "\t\t\t\t\t\t\t\t\t\t\t\t\t}\n",
       "\t\t\t\t\t\t\t\t\t\t\t\t</style>\n",
       "\n",
       "\t\t\t\t\t\t\t\t\t\t\t\t<div><div class=\"grid-container\"><div class=\"grid-item\"><pre style=\"&#102;&#111;&#110;&#116;&#45;&#102;&#97;&#109;&#105;&#108;&#121;&#58;&#32;&#34;&#67;&#111;&#117;&#114;&#105;&#101;&#114;&#32;&#78;&#101;&#119;&#34;&#44;&#67;&#111;&#117;&#114;&#105;&#101;&#114;&#44;&#109;&#111;&#110;&#111;&#115;&#112;&#97;&#99;&#101;&#59;\">&#123;&#50;&#49;&#55;&#55;&#54;&#46;&#57;&#55;&#32;&#116;&#111;&#32;&#50;&#50;&#52;&#54;&#52;&#46;&#49;&#51;&#44;&#32;&#52;&#52;&#52;&#57;&#53;&#46;&#54;&#52;&#32;&#116;&#111;&#32;&#52;&#53;&#56;&#57;&#57;&#46;&#54;&#56;&#44;&#32;&#50;&#54;&#57;&#54;&#56;&#57;&#46;&#51;&#51;&#32;&#116;&#111;&#32;&#50;&#55;&#56;&#49;&#57;&#57;&#46;&#50;&#53;&#44;&#32;&#10;&#32;&#10;&#62;&#32;&#32;&#32;&#51;&#49;&#54;&#49;&#53;&#46;&#55;&#53;&#32;&#116;&#111;&#32;&#51;&#50;&#54;&#49;&#51;&#46;&#51;&#55;&#44;&#32;&#49;&#50;&#52;&#48;&#51;&#57;&#46;&#51;&#49;&#32;&#116;&#111;&#32;&#49;&#50;&#55;&#57;&#53;&#51;&#46;&#51;&#49;&#125;</pre></div><div class=\"grid-item\"><pre style=\"&#102;&#111;&#110;&#116;&#45;&#102;&#97;&#109;&#105;&#108;&#121;&#58;&#32;&#34;&#67;&#111;&#117;&#114;&#105;&#101;&#114;&#32;&#78;&#101;&#119;&#34;&#44;&#67;&#111;&#117;&#114;&#105;&#101;&#114;&#44;&#109;&#111;&#110;&#111;&#115;&#112;&#97;&#99;&#101;&#59;\">&#123;&#80;&#111;&#115;&#116;&#100;&#111;&#99;&#116;&#111;&#114;&#97;&#108;&#32;&#70;&#101;&#108;&#108;&#111;&#119;&#44;&#32;&#66;&#97;&#99;&#107;&#101;&#110;&#100;&#32;&#69;&#110;&#103;&#105;&#110;&#101;&#101;&#114;&#44;&#32;&#68;&#97;&#116;&#97;&#32;&#73;&#110;&#116;&#101;&#103;&#114;&#105;&#116;&#121;&#32;&#65;&#110;&#97;&#108;&#121;&#115;&#116;&#44;&#32;&#10;&#32;&#10;&#62;&#32;&#32;&#32;&#66;&#117;&#115;&#105;&#110;&#101;&#115;&#115;&#32;&#73;&#110;&#116;&#101;&#108;&#108;&#105;&#103;&#101;&#110;&#99;&#101;&#32;&#77;&#97;&#110;&#97;&#103;&#101;&#114;&#44;&#32;&#68;&#97;&#116;&#97;&#32;&#86;&#105;&#115;&#117;&#97;&#108;&#105;&#122;&#97;&#116;&#105;&#111;&#110;&#32;&#83;&#112;&#101;&#99;&#105;&#97;&#108;&#105;&#115;&#116;&#125;</pre></div><div class=\"grid-item\"><pre style=\"&#102;&#111;&#110;&#116;&#45;&#102;&#97;&#109;&#105;&#108;&#121;&#58;&#32;&#34;&#67;&#111;&#117;&#114;&#105;&#101;&#114;&#32;&#78;&#101;&#119;&#34;&#44;&#67;&#111;&#117;&#114;&#105;&#101;&#114;&#44;&#109;&#111;&#110;&#111;&#115;&#112;&#97;&#99;&#101;&#59;\">&#49;&#50;&#56;</pre></div><div class=\"grid-item\"><pre style=\"&#102;&#111;&#110;&#116;&#45;&#102;&#97;&#109;&#105;&#108;&#121;&#58;&#32;&#34;&#67;&#111;&#117;&#114;&#105;&#101;&#114;&#32;&#78;&#101;&#119;&#34;&#44;&#67;&#111;&#117;&#114;&#105;&#101;&#114;&#44;&#109;&#111;&#110;&#111;&#115;&#112;&#97;&#99;&#101;&#59;\">&#51;&#49;&#55;</pre></div></div></div>"
      ],
      "text/plain": [
       "{21776.97 to 22464.13, 44495.64 to 45899.68, 269689.33 to 278199.25, \n",
       " \n",
       ">   31615.75 to 32613.37, 124039.31 to 127953.31}\n",
       "{Postdoctoral Fellow, Backend Engineer, Data Integrity Analyst, \n",
       " \n",
       ">   Business Intelligence Manager, Data Visualization Specialist}\n",
       "128\n",
       "317"
      ]
     },
     "execution_count": 31,
     "metadata": {
      "text/html": [],
      "text/plain": []
     },
     "output_type": "execute_result"
    }
   ],
   "source": [
    "partitionedSets = partition[graph2];\n",
    "RandomSample[partitionedSets[[1]], 5]\n",
    "RandomSample[partitionedSets[[2]], 5]\n",
    "Length[partitionedSets[[1]]]\n",
    "Length[partitionedSets[[2]]]"
   ]
  },
  {
   "cell_type": "code",
   "execution_count": 37,
   "id": "78c687f3-4823-45f6-845a-2a18110f93df",
   "metadata": {},
   "outputs": [],
   "source": [
    "graphJob = projection[graph2, V]; (*GroupedJob*)"
   ]
  },
  {
   "cell_type": "raw",
   "id": "d2d5b461-0efe-41b2-a544-59cefb0cb9b5",
   "metadata": {},
   "source": [
    "Export[\"Graph.graphml\", graph1]\n",
    "Export[\"projection_job(grouped_log).graphml\", graph2U]"
   ]
  },
  {
   "cell_type": "code",
   "execution_count": null,
   "id": "96af68b0-e578-4474-9359-cff691c8abd1",
   "metadata": {},
   "outputs": [],
   "source": []
  }
 ],
 "metadata": {
  "kernelspec": {
   "display_name": "Wolfram Language 14.2",
   "language": "Wolfram Language",
   "name": "wolframlanguage14.2"
  },
  "language_info": {
   "codemirror_mode": "mathematica",
   "file_extension": ".m",
   "mimetype": "application/vnd.wolfram.m",
   "name": "Wolfram Language",
   "pygments_lexer": "mathematica",
   "version": "12.0"
  }
 },
 "nbformat": 4,
 "nbformat_minor": 5
}
