{
 "cells": [
  {
   "cell_type": "code",
   "execution_count": 1,
   "id": "009277c1-06dc-4247-b906-99eeee59f70f",
   "metadata": {},
   "outputs": [],
   "source": [
    "data = Import[\"C:/Users/crist/OneDrive/Documentos/Redes/Redes/DataScience-Salaries/Project/tables/salaries_2020-2025(clean).csv\", \"CSV\"];\n",
    "groupedData = Import[\"C:/Users/crist/OneDrive/Documentos/Redes/Redes/DataScience-Salaries/Project/tables/salaries_2020-2025(grouped).csv\", \"CSV\"];"
   ]
  },
  {
   "cell_type": "code",
   "execution_count": 3,
   "id": "401908d2-1614-4690-95ad-89917ffd9811",
   "metadata": {},
   "outputs": [],
   "source": [
    "data = Rest[data];\n",
    "groupedData = Rest[groupedData];"
   ]
  },
  {
   "cell_type": "code",
   "execution_count": 5,
   "id": "ebd4269d-7d23-4948-a130-d1ab3a16b021",
   "metadata": {},
   "outputs": [],
   "source": [
    "graph1 = Graph[UndirectedEdge @@@ data];\n",
    "graph2 = Graph[UndirectedEdge @@@ groupedData];"
   ]
  },
  {
   "cell_type": "code",
   "execution_count": null,
   "id": "db66eb92-8c8c-4eed-a4e8-509558f6fa2b",
   "metadata": {},
   "outputs": [],
   "source": [
    "GraphicsGrid[Partition[Table[{GraphPlot[graph1], GraphPlot[graph2]}], 2]]"
   ]
  },
  {
   "cell_type": "code",
   "execution_count": 7,
   "id": "568916a8-b246-472c-893f-ce6cec017541",
   "metadata": {},
   "outputs": [],
   "source": [
    "partition[graph_] := \n",
    "    Module[{list, listA, listB, subList, added},\n",
    "    list = VertexList[graph];\n",
    "        listA = {list[[1]]};\n",
    "        listB = AdjacencyList[graph, list[[1]]];\n",
    "\n",
    "        (* Itera sobre los vértices restantes del grafo *)\n",
    "        For[i = 2, i <= Length[list], i++, \n",
    "            If[!MemberQ[Join[listA, listB], list[[i]]],\n",
    "                subList = AdjacencyList[graph, list[[i]]];\n",
    "                added = False;\n",
    "                (* Itera sobre los vecinos del vértice actual *)\n",
    "                For[j = 1, j <= Length[subList] && !added, j++,\n",
    "                    (* Si uno de los vecinos está en la lista A,\n",
    "                    añade el vértice a la lista B *)\n",
    "                    If[MemberQ[listA, subList[[j]]], \n",
    "                        AppendTo[listB, list[[i]]]; \n",
    "                        added = True\n",
    "                    ];\n",
    "                    (* Si uno de los vecinos está en la lista B,\n",
    "                    añade el vértice a la lista A *)\n",
    "                    If[MemberQ[listB, subList[[j]]], \n",
    "                        AppendTo[listA, list[[i]]]; \n",
    "                        added = True\n",
    "                    ]\n",
    "                ];\n",
    "                (* Si no se ha añadido el vértice a ninguna lista,\n",
    "                lo añade a la lista A por defecto *)\n",
    "                If[!added,\n",
    "                    AppendTo[listA, list[[i]]]\n",
    "                ]\n",
    "            ]\n",
    "        ];   \n",
    "        {listA, listB}\n",
    "    ]"
   ]
  },
  {
   "cell_type": "code",
   "execution_count": 8,
   "id": "d06176ba-f340-4198-adaf-7041e3e6229e",
   "metadata": {},
   "outputs": [],
   "source": [
    "projection[graph_, setUorV_] :=\n",
    "    Module[{set, projectedGraph, discNodes, list1, added,list2},\n",
    "        set = Switch[setUorV,\n",
    "            U, partition[graph][[1]],\n",
    "            V, partition[graph][[2]]\n",
    "        ];\n",
    "        projectedGraph = Graph[{}];\n",
    "        (* Itera sobre cada vértice en el conjunto seleccionado (set). *)\n",
    "        For[i = 1, i <= Length[set], i++,\n",
    "        list1 = AdjacencyList[graph, set[[i]]];\n",
    "            (* Para cada vértice j en el conjunto set, verifica si existe una intersección \n",
    "            entre los vecinos de los vértices i y j. *)\n",
    "            added = False;\n",
    "            For[j = 1, i != j && j <= Length[set] && !EdgeQ[projectedGraph, set[[i]] <-> set[[j]]], j++,\n",
    "                list2 = AdjacencyList[graph, set[[j]]];\n",
    "                (* Si los conjuntos de adyacencia de i y j tienen elementos en común (hay una intersección) \n",
    "                y aún no se ha agregado la conexión (arista) entre ellos, se añade al grafo proyectado. *)\n",
    "                If[Intersection[list1, list2] != {},\n",
    "                    projectedGraph = EdgeAdd[projectedGraph, set[[i]] <-> set[[j]]];\n",
    "                    added = True\n",
    "                ]\n",
    "            ];\n",
    "            If[!added, projectedGraph = VertexAdd[projectedGraph, set[[i]]]]\n",
    "        ];\n",
    "        projectedGraph\n",
    "    ]"
   ]
  },
  {
   "cell_type": "code",
   "execution_count": null,
   "id": "dce4f993-ac7b-4862-819f-19e1b4cff5d2",
   "metadata": {},
   "outputs": [],
   "source": [
    "graph1U = projection[graph1, U];"
   ]
  },
  {
   "cell_type": "code",
   "execution_count": null,
   "id": "78c687f3-4823-45f6-845a-2a18110f93df",
   "metadata": {},
   "outputs": [],
   "source": [
    "graph2U = projection[graph2, U];"
   ]
  },
  {
   "cell_type": "code",
   "execution_count": null,
   "id": "4fa2ae27-7059-4f53-a52f-ff33ae0599f1",
   "metadata": {},
   "outputs": [],
   "source": [
    "graph1V = projection[graph1, V];"
   ]
  },
  {
   "cell_type": "code",
   "execution_count": 13,
   "id": "398da2f1-0bcb-4a4f-9f6f-6f5a6e01126a",
   "metadata": {},
   "outputs": [],
   "source": [
    "graph2V = projection[graph2, V];"
   ]
  },
  {
   "cell_type": "raw",
   "id": "4bd3ea80-4225-439d-b8f4-4ede41c93b0a",
   "metadata": {},
   "source": [
    "Export[\"projection_job(clean).graphml\", graph1U]"
   ]
  },
  {
   "cell_type": "raw",
   "id": "65a7235c-7f2b-4078-b598-fb5def2ec348",
   "metadata": {},
   "source": [
    "Export[\"projection_job(grouped).graphml\", graph2U]"
   ]
  },
  {
   "cell_type": "raw",
   "id": "72a5ae8b-7584-4730-90e5-51c2ebcb31aa",
   "metadata": {},
   "source": [
    "Export[\"projection_salary(clean).graphml\", graph1U]"
   ]
  },
  {
   "cell_type": "raw",
   "id": "ea573d39-5c43-42e4-872f-faf2755e42d4",
   "metadata": {},
   "source": [
    "Export[\"projection_salary(grouped).graphml\", graph2V]"
   ]
  }
 ],
 "metadata": {
  "kernelspec": {
   "display_name": "Wolfram Language 14.2",
   "language": "Wolfram Language",
   "name": "wolframlanguage14.2"
  },
  "language_info": {
   "codemirror_mode": "mathematica",
   "file_extension": ".m",
   "mimetype": "application/vnd.wolfram.m",
   "name": "Wolfram Language",
   "pygments_lexer": "mathematica",
   "version": "12.0"
  }
 },
 "nbformat": 4,
 "nbformat_minor": 5
}
