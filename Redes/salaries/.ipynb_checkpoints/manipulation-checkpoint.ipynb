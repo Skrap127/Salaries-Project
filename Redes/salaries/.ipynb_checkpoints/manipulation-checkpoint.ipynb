{
 "cells": [
  {
   "cell_type": "code",
   "execution_count": 1,
   "id": "9d1845b7-fe77-4df3-9a16-0c66ba2e3641",
   "metadata": {},
   "outputs": [],
   "source": [
    "import pandas as pd\n",
    "import numpy as np\n",
    "df = pd.read_csv('DataScience_salaries_2025.csv')"
   ]
  },
  {
   "cell_type": "code",
   "execution_count": 2,
   "id": "3b39d0cb-7da7-4e1a-8d80-cec765ab2a18",
   "metadata": {},
   "outputs": [
    {
     "name": "stdout",
     "output_type": "stream",
     "text": [
      "            job_title  salary_in_USD\n",
      "0  Research Scientist         208000\n",
      "1  Research Scientist         147000\n",
      "2  Research Scientist         173000\n",
      "3  Research Scientist         117000\n",
      "4         AI Engineer         100000\n"
     ]
    }
   ],
   "source": [
    "print(df.head())"
   ]
  },
  {
   "cell_type": "code",
   "execution_count": 3,
   "id": "108e779c-1ecf-4b5c-8f89-7aad5ff73cea",
   "metadata": {},
   "outputs": [
    {
     "name": "stdout",
     "output_type": "stream",
     "text": [
      "            job_title  salary_in_USD                  Grupo\n",
      "0  Research Scientist         208000  204748.52 - 211286.16\n",
      "1  Research Scientist         147000  145909.77 - 152447.41\n",
      "2  Research Scientist         173000  172060.33 - 178597.97\n",
      "3  Research Scientist         117000  113221.58 - 119759.22\n",
      "4         AI Engineer         100000    93608.66 - 100146.3\n"
     ]
    }
   ],
   "source": [
    "salaries = df['salary_in_USD']\n",
    "\n",
    "n = len(salaries)\n",
    "\n",
    "max_salaries = salaries.max()\n",
    "min_salaries = salaries.min()\n",
    "\n",
    "Q1 = salaries.quantile(0.25)\n",
    "Q3 = salaries.quantile(0.75)\n",
    "\n",
    "IQR = Q3 - Q1\n",
    "\n",
    "A_FD = 2*(IQR)*n**(-1/3)\n",
    "\n",
    "k = int(np.ceil((max_salaries-min_salaries)/A_FD))\n",
    "\n",
    "bins = np.linspace(min_salaries, max_salaries, k+1)\n",
    "labels = [f'{np.round(bins[i], 2)} - {np.round(bins[i+1], 2)}' for i in range(k)]\n",
    "\n",
    "df['Grupo'] = pd.cut(salaries, bins=bins, labels=labels, include_lowest=True).astype(str)\n",
    "\n",
    "print(df.head())"
   ]
  },
  {
   "cell_type": "code",
   "execution_count": 4,
   "id": "f3cbc034-9d1a-4fe6-90fb-a54895cffbf1",
   "metadata": {},
   "outputs": [
    {
     "name": "stdout",
     "output_type": "stream",
     "text": [
      "            job_title                  Grupo\n",
      "0  Research Scientist  204748.52 - 211286.16\n",
      "1  Research Scientist  145909.77 - 152447.41\n",
      "2  Research Scientist  172060.33 - 178597.97\n",
      "3  Research Scientist  113221.58 - 119759.22\n",
      "4         AI Engineer    93608.66 - 100146.3\n"
     ]
    }
   ],
   "source": [
    "df = df.drop('salary_in_USD', axis=1)\n",
    "df = df.drop_duplicates()\n",
    "print(df.head())"
   ]
  },
  {
   "cell_type": "code",
   "execution_count": 5,
   "id": "e2b8db13-e831-446b-8ed0-ef11170e0681",
   "metadata": {},
   "outputs": [],
   "source": [
    "df.to_csv('salaries.csv', index = False)"
   ]
  }
 ],
 "metadata": {
  "kernelspec": {
   "display_name": "Python 3 (ipykernel)",
   "language": "python",
   "name": "python3"
  },
  "language_info": {
   "codemirror_mode": {
    "name": "ipython",
    "version": 3
   },
   "file_extension": ".py",
   "mimetype": "text/x-python",
   "name": "python",
   "nbconvert_exporter": "python",
   "pygments_lexer": "ipython3",
   "version": "3.13.2"
  }
 },
 "nbformat": 4,
 "nbformat_minor": 5
}
