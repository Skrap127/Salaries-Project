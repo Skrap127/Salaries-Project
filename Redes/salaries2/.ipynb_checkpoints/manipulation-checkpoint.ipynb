{
 "cells": [
  {
   "cell_type": "code",
   "execution_count": 2,
   "id": "9d1845b7-fe77-4df3-9a16-0c66ba2e3641",
   "metadata": {},
   "outputs": [],
   "source": [
    "import pandas as pd\n",
    "import numpy as np\n",
    "import csv\n",
    "df = pd.read_csv('salaries.csv')"
   ]
  },
  {
   "cell_type": "code",
   "execution_count": 3,
   "id": "3b39d0cb-7da7-4e1a-8d80-cec765ab2a18",
   "metadata": {},
   "outputs": [
    {
     "name": "stdout",
     "output_type": "stream",
     "text": [
      "   work_year experience_level employment_type           job_title  salary  \\\n",
      "0       2025               SE              FT  Data Product Owner  170000   \n",
      "1       2025               SE              FT  Data Product Owner  110000   \n",
      "2       2025               SE              FT  Data Product Owner  170000   \n",
      "3       2025               SE              FT  Data Product Owner  110000   \n",
      "4       2025               SE              FT            Engineer  143000   \n",
      "\n",
      "  salary_currency  salary_in_usd employee_residence  remote_ratio  \\\n",
      "0             USD         170000                 US             0   \n",
      "1             USD         110000                 US             0   \n",
      "2             USD         170000                 US             0   \n",
      "3             USD         110000                 US             0   \n",
      "4             USD         143000                 US             0   \n",
      "\n",
      "  company_location company_size  \n",
      "0               US            M  \n",
      "1               US            M  \n",
      "2               US            M  \n",
      "3               US            M  \n",
      "4               US            M  \n"
     ]
    }
   ],
   "source": [
    "print(df.head())"
   ]
  },
  {
   "cell_type": "code",
   "execution_count": 4,
   "id": "8c065c15-6479-4874-882e-0898fab6e5fe",
   "metadata": {},
   "outputs": [
    {
     "name": "stdout",
     "output_type": "stream",
     "text": [
      "            job_title  salary_in_usd\n",
      "0  Data Product Owner         170000\n",
      "1  Data Product Owner         110000\n",
      "2  Data Product Owner         170000\n",
      "3  Data Product Owner         110000\n",
      "4            Engineer         143000\n"
     ]
    }
   ],
   "source": [
    "columns_delete=['work_year', 'experience_level', 'employment_type', 'salary', 'salary_currency', 'employee_residence', 'remote_ratio', 'company_location', 'company_size']\n",
    "df = df.drop(columns=columns_delete)\n",
    "\n",
    "print(df.head())"
   ]
  },
  {
   "cell_type": "code",
   "execution_count": 5,
   "id": "108e779c-1ecf-4b5c-8f89-7aad5ff73cea",
   "metadata": {},
   "outputs": [
    {
     "name": "stdout",
     "output_type": "stream",
     "text": [
      "            job_title  salary_in_usd                  Grupo\n",
      "0  Data Product Owner         170000  165790.96 - 170225.99\n",
      "1  Data Product Owner         110000  108135.59 - 112570.62\n",
      "2  Data Product Owner         170000  165790.96 - 170225.99\n",
      "3  Data Product Owner         110000  108135.59 - 112570.62\n",
      "4            Engineer         143000  139180.79 - 143615.82\n"
     ]
    }
   ],
   "source": [
    "salaries = df['salary_in_usd']\n",
    "\n",
    "n = len(salaries)\n",
    "\n",
    "max_salaries = salaries.max()\n",
    "min_salaries = salaries.min()\n",
    "\n",
    "Q1 = salaries.quantile(0.25)\n",
    "Q3 = salaries.quantile(0.75)\n",
    "\n",
    "IQR = Q3 - Q1\n",
    "\n",
    "A_FD = 2*(IQR)*n**(-1/3)\n",
    "\n",
    "k = int(np.ceil((max_salaries-min_salaries)/A_FD))\n",
    "\n",
    "bins = np.linspace(min_salaries, max_salaries, k+1)\n",
    "labels = [f'{np.round(bins[i], 2)} - {np.round(bins[i+1], 2)}' for i in range(k)]\n",
    "\n",
    "df['Grupo'] = pd.cut(salaries, bins=bins, labels=labels, include_lowest=True).astype(str)\n",
    "\n",
    "print(df.head())"
   ]
  },
  {
   "cell_type": "code",
   "execution_count": 6,
   "id": "f3cbc034-9d1a-4fe6-90fb-a54895cffbf1",
   "metadata": {},
   "outputs": [
    {
     "name": "stdout",
     "output_type": "stream",
     "text": [
      "            job_title                  Grupo\n",
      "0  Data Product Owner  165790.96 - 170225.99\n",
      "1  Data Product Owner  108135.59 - 112570.62\n",
      "4            Engineer  139180.79 - 143615.82\n",
      "5            Engineer  103700.56 - 108135.59\n",
      "6             Manager   356497.18 - 360932.2\n"
     ]
    }
   ],
   "source": [
    "df = df.drop('salary_in_usd', axis=1)\n",
    "df = df.drop_duplicates()\n",
    "print(df.head())"
   ]
  },
  {
   "cell_type": "code",
   "execution_count": 7,
   "id": "e2b8db13-e831-446b-8ed0-ef11170e0681",
   "metadata": {},
   "outputs": [],
   "source": [
    "df.to_csv('salaries.csv', index = False, quoting=csv.QUOTE_ALL)"
   ]
  }
 ],
 "metadata": {
  "kernelspec": {
   "display_name": "Python 3 (ipykernel)",
   "language": "python",
   "name": "python3"
  },
  "language_info": {
   "codemirror_mode": {
    "name": "ipython",
    "version": 3
   },
   "file_extension": ".py",
   "mimetype": "text/x-python",
   "name": "python",
   "nbconvert_exporter": "python",
   "pygments_lexer": "ipython3",
   "version": "3.13.2"
  }
 },
 "nbformat": 4,
 "nbformat_minor": 5
}
