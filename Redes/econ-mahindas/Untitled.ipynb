{
 "cells": [
  {
   "cell_type": "code",
   "execution_count": 4,
   "id": "84cee4ec-6729-4d78-b442-214e35f63f3e",
   "metadata": {},
   "outputs": [
    {
     "ename": "AdjacencyGraph::inv",
     "evalue": "The argument SparseArray[<7682>, {1258, 1258}] in AdjacencyGraph[Automatic, SparseArray[<7682>, {1258, 1258}]] is not a valid adjacency matrix.",
     "output_type": "error",
     "traceback": [
      "\u001b[0;31mAdjacencyGraph::inv: The argument SparseArray[<7682>, {1258, 1258}] in AdjacencyGraph[Automatic, SparseArray[<7682>, {1258, 1258}]] is not a valid adjacency matrix.\u001b[0m"
     ]
    },
    {
     "data": {
      "text/html": [
       "<div><pre style=\"&#102;&#111;&#110;&#116;&#45;&#102;&#97;&#109;&#105;&#108;&#121;&#58;&#32;&#34;&#67;&#111;&#117;&#114;&#105;&#101;&#114;&#32;&#78;&#101;&#119;&#34;&#44;&#67;&#111;&#117;&#114;&#105;&#101;&#114;&#44;&#109;&#111;&#110;&#111;&#115;&#112;&#97;&#99;&#101;&#59;\">&#83;&#112;&#97;&#114;&#115;&#101;&#65;&#114;&#114;&#97;&#121;&#91;&#60;&#55;&#54;&#56;&#50;&#62;&#44;&#32;&#123;&#49;&#50;&#53;&#56;&#44;&#32;&#49;&#50;&#53;&#56;&#125;&#93;</pre></div>"
      ],
      "text/plain": [
       "SparseArray[<7682>, {1258, 1258}]"
      ]
     },
     "execution_count": 4,
     "metadata": {
      "text/html": [],
      "text/plain": []
     },
     "output_type": "execute_result"
    }
   ],
   "source": [
    "data  = Import[\"econ-mahindas.mtx\", \"MTX\"]\n",
    "g = AdjacencyGraph[data];"
   ]
  },
  {
   "cell_type": "code",
   "execution_count": null,
   "id": "2734af5a-ecd8-41db-8d54-a3ef3b93b828",
   "metadata": {},
   "outputs": [],
   "source": []
  }
 ],
 "metadata": {
  "kernelspec": {
   "display_name": "Wolfram Language 14.1",
   "language": "Wolfram Language",
   "name": "wolframlanguage14.1"
  },
  "language_info": {
   "codemirror_mode": "mathematica",
   "file_extension": ".m",
   "mimetype": "application/vnd.wolfram.m",
   "name": "Wolfram Language",
   "pygments_lexer": "mathematica",
   "version": "12.0"
  }
 },
 "nbformat": 4,
 "nbformat_minor": 5
}
