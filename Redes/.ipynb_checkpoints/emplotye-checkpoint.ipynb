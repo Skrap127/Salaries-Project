{
 "cells": [
  {
   "cell_type": "code",
   "execution_count": 13,
   "id": "bef48268-c9c6-4b87-9a28-75278b76b374",
   "metadata": {},
   "outputs": [],
   "source": [
    "data = Import[\"employees.csv\"];\n",
    "graph = Graph[UndirectedEdge @@@ data];"
   ]
  },
  {
   "cell_type": "code",
   "execution_count": 49,
   "id": "9eec5e76-dab3-4eda-afc1-3223852dc398",
   "metadata": {},
   "outputs": [],
   "source": [
    "partition[graph_] := \n",
    "    Module[{list, listA, listB, subList, added},\n",
    "        list = VertexList[graph];\n",
    "        listA = {list[[1]]};\n",
    "        listB = AdjacencyList[graph, list[[1]]];\n",
    "\n",
    "        (* Itera sobre los vértices restantes del grafo *)\n",
    "        For[i = 2, i <= Length[list], i++, \n",
    "            If[!MemberQ[Join[listA, listB], list[[i]]],\n",
    "                subList = AdjacencyList[graph, list[[i]]];\n",
    "                added = False;\n",
    "                (* Itera sobre los vecinos del vértice actual *)\n",
    "                For[j = 1, j <= Length[subList] && !added, j++,\n",
    "                    (* Si uno de los vecinos está en la lista A,\n",
    "                    añade el vértice a la lista B *)\n",
    "                    If[MemberQ[listA, subList[[j]]], \n",
    "                        AppendTo[listB, list[[i]]]; \n",
    "                        added = True\n",
    "                    ];\n",
    "                    (* Si uno de los vecinos está en la lista B,\n",
    "                    añade el vértice a la lista A *)\n",
    "                    If[MemberQ[listB, subList[[j]]], \n",
    "                        AppendTo[listA, list[[i]]]; \n",
    "                        added = True\n",
    "                    ]\n",
    "                ];\n",
    "                (* Si no se ha añadido el vértice a ninguna lista,\n",
    "                lo añade a la lista A por defecto *)\n",
    "                If[!added,\n",
    "                    AppendTo[listA, list[[i]]]\n",
    "                ]\n",
    "            ]\n",
    "        ];   \n",
    "        {listA, listB}\n",
    "    ]\n",
    "(* Función que verifica si un grafo es bipartito y retorna la \n",
    "partición de conjuntos si es así *)\n",
    "partitionedSets[graph_] :=\n",
    "    Module[{partitions},\n",
    "        If[BipartiteGraphQ[graph],\n",
    "            partitions = partition[graph];\n",
    "            Print[\"la longitud de los conjuntos particionados son:\"];\n",
    "            Print[\"Para U: \", Length[partitions[[1]]], \" y Para V: \", Length[partitions[[2]]]];\n",
    "            Print[\"Algunos datos son:\"];\n",
    "            Print[\"Para U:  \", RandomSample[partitions[[1]],5]];\n",
    "            Print[\"Para V:  \", RandomSample[partitions[[2]],5]],\n",
    "            \"No es un grafo bipartito\"\n",
    "        ]\n",
    "    ]\n",
    "projection[graph_, setUorV_] :=\n",
    "    Module[{projectedGraph, set, list1, list2},\n",
    "        set = Switch[setUorV,\n",
    "            U, partition[graph][[1]],\n",
    "            V, partition[graph][[2]]\n",
    "        ];\n",
    "        projectedGraph = {};\n",
    "\n",
    "        (* Itera sobre cada vértice en el conjunto seleccionado (set). *)\n",
    "        For[i = 1, i <= Length[set], i++,\n",
    "        list1 = AdjacencyList[graph, set[[i]]];\n",
    "            (* Para cada vértice j en el conjunto set, verifica si existe una intersección \n",
    "            entre los vecinos de los vértices i y j. *)\n",
    "            For[j = 1, j <= Length[set], j++,\n",
    "                If[i != j,\n",
    "                   list2 = AdjacencyList[graph, set[[j]]];\n",
    "                   (* Si los conjuntos de adyacencia de i y j tienen elementos en común (hay una intersección) \n",
    "                   y aún no se ha agregado la conexión (arista) entre ellos, se añade al grafo proyectado. *)\n",
    "                   If[Intersection[list1, list2] != {} && !MemberQ[projectedGraph, set[[j]] <-> set[[i]]],\n",
    "                       AppendTo[projectedGraph, set[[i]] <-> set[[j]]]\n",
    "                   ]\n",
    "                ]\n",
    "            ]\n",
    "        ];\n",
    "        projectedGraph\n",
    "    ]\n",
    "\n",
    "projections[graph_, setUorV_] := \n",
    "    If[BipartiteGraphQ[graph],\n",
    "        (* Según el valor de setUorV, calcula la proyección del conjunto U o V sobre el conjunto contrario. *)\n",
    "        Switch[setUorV,\n",
    "            U, Print[\"Un subgrafo de la proyeccion del conjunto U sobre V es: \"]; \n",
    "            Graph[RandomSample[projection[graph,U], 100], GraphLayout -> \"SpringEmbedding\"],\n",
    "            V, Print[\"Un subgrafo de la proyeccion del conjunto V sobre U es: \"]; \n",
    "            Graph[RandomSample[projection[graph,V], 100], GraphLayout -> \"SpringEmbedding\"],\n",
    "            _, \"Conjunto Invalido\"\n",
    "        ],\n",
    "        \"No es un grafo bipartito\"\n",
    "    ]"
   ]
  },
  {
   "cell_type": "code",
   "execution_count": 55,
   "id": "085480e2-d965-41f4-842c-d364518c8e97",
   "metadata": {},
   "outputs": [
    {
     "name": "stdout",
     "output_type": "stream",
     "text": [
      "la longitud de los conjuntos particionados son:\n",
      "Para U: 10000 y Para V: 639\n",
      "Algunos datos son:\n",
      "Para U:  {Lindsey Hart, Xavier Velasquez, Anne Beard, Richard Richard, \n",
      " \n",
      ">    Traci Moyer}\n",
      "Para V:  {Editorial assistant, Medical physicist, Horticulturist. commercial, \n",
      " \n",
      ">    Health visitor, Production assistant. television}\n"
     ]
    }
   ],
   "source": [
    "partitionedSets[graph]"
   ]
  },
  {
   "cell_type": "code",
   "execution_count": 56,
   "id": "1c337c69-470e-47be-a9da-92c5e2a73e4d",
   "metadata": {},
   "outputs": [
    {
     "data": {
      "text/html": [
       "<div><pre style=\"&#102;&#111;&#110;&#116;&#45;&#102;&#97;&#109;&#105;&#108;&#121;&#58;&#32;&#34;&#67;&#111;&#117;&#114;&#105;&#101;&#114;&#32;&#78;&#101;&#119;&#34;&#44;&#67;&#111;&#117;&#114;&#105;&#101;&#114;&#44;&#109;&#111;&#110;&#111;&#115;&#112;&#97;&#99;&#101;&#59;\">&#48;</pre></div>"
      ],
      "text/plain": [
       "0"
      ]
     },
     "execution_count": 56,
     "metadata": {
      "text/html": [],
      "text/plain": []
     },
     "output_type": "execute_result"
    }
   ],
   "source": [
    "Length[projection[graph, V]]"
   ]
  },
  {
   "cell_type": "code",
   "execution_count": null,
   "id": "7f5a07a5-f3e2-4704-a3b5-2b2f4a6e882e",
   "metadata": {},
   "outputs": [],
   "source": []
  }
 ],
 "metadata": {
  "kernelspec": {
   "display_name": "Wolfram Language 14.1",
   "language": "Wolfram Language",
   "name": "wolframlanguage14.1"
  },
  "language_info": {
   "codemirror_mode": "mathematica",
   "file_extension": ".m",
   "mimetype": "application/vnd.wolfram.m",
   "name": "Wolfram Language",
   "pygments_lexer": "mathematica",
   "version": "12.0"
  }
 },
 "nbformat": 4,
 "nbformat_minor": 5
}
