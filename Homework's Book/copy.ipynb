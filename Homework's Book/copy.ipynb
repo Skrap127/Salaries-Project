{
 "cells": [
  {
   "cell_type": "code",
   "execution_count": 2,
   "id": "a8279823-26dd-4d8b-a6b9-d6613f70dcce",
   "metadata": {},
   "outputs": [
    {
     "data": {
      "text/plain": [
       "True"
      ]
     },
     "execution_count": 2,
     "metadata": {},
     "output_type": "execute_result"
    }
   ],
   "source": [
    "1 == 1"
   ]
  },
  {
   "cell_type": "raw",
   "id": "ced15b9b-ed86-4de1-9c6a-f2acb709d2c7",
   "metadata": {},
   "source": [
    "<script>\n",
    "  // Seleccionamos todos los elementos <pre>\n",
    "  var elementos = document.querySelectorAll(\"pre\");  \n",
    "\n",
    "  // Función para copiar el código al portapapeles\n",
    "  function copiarCodigo(idpre) {\n",
    "    // Seleccionamos el contenido del bloque de código sin las etiquetas HTML\n",
    "    var codigo = document.getElementById(idpre);\n",
    "    \n",
    "    // Usamos .textContent para extraer el texto plano\n",
    "    var textoPlano = codigo.textContent || codigo.innerText;\n",
    "    \n",
    "    // Usamos la API moderna para copiar al portapapeles\n",
    "    navigator.clipboard.writeText(textoPlano)\n",
    "      .then(function() {\n",
    "        alert(\"¡Código copiado al portapapeles!\");\n",
    "      })\n",
    "      .catch(function(err) {\n",
    "        console.error(\"Error al copiar al portapapeles:\", err);\n",
    "        alert(\"No se pudo copiar el código.\");\n",
    "      });\n",
    "  }\n",
    "\n",
    "  // Recorremos todos los elementos <pre>\n",
    "  for (let i = 0; i < elementos.length; i++) {\n",
    "    var preElemento = elementos[i];  // Accedemos al i-ésimo elemento de la NodeList\n",
    "\n",
    "    // Verificamos si el <pre> está dentro de un div con la clase \"jp-Cell-outputWrapper\"\n",
    "    if (preElemento.closest('.jp-Cell-outputWrapper')) {\n",
    "      continue; // Si está dentro de un div con la clase 'excluir', lo omitimos\n",
    "    }\n",
    "\n",
    "    // Asignamos un id dinámicamente a cada <pre>\n",
    "    preElemento.setAttribute(\"id\", \"mi-pre-\" + i);\n",
    "\n",
    "    // Creamos el botón\n",
    "    var boton = document.createElement(\"button\");\n",
    "\n",
    "    // Asignamos un id dinámico al botón\n",
    "    boton.id = \"mi-boton-\" + i;\n",
    "\n",
    "    // Añadimos un ícono de copiar (SVG minimalista, similar al estilo de ChatGPT)\n",
    "    boton.innerHTML = `\n",
    "      <svg xmlns=\"http://www.w3.org/2000/svg\" width=\"15\" height=\"15\" fill=\"currentColor\" class=\"bi bi-clipboard\" viewBox=\"0 0 16 16\">\n",
    "        <path d=\"M0 6.75C0 5.784.784 5 1.75 5h1.5a.75.75 0 0 1 0 1.5h-1.5a.25.25 0 0 0-.25.25v7.5c0    .138.112.25.25.25h7.5a.25.25 0 0 0 .25-.25v-1.5a.75.75 0 0 1 1.5 0v1.5A1.75 1.75 0 0 1 9.25 16h-7.5A1.75 1.75 0 0 1 0 14.25Z\"></path>\n",
    "        <path d=\"M5 1.75C5 .784 5.784 0 6.75 0h7.5C15.216 0 16 .784 16 1.75v7.5A1.75 1.75 0 0 1 14.25 11h-7.5A1.75 1.75 0 0 1 5 9.25Zm1.75-.25a.25.25 0 0 0-.25.25v7.5c0 .138.112.25.25.25h7.5a.25.25 0 0 0 .25-.25v-7.5a.25.25 0 0 0-.25-.25Z\"></path>\n",
    "      </svg>\n",
    "        Copiar\n",
    "    `;\n",
    "\n",
    "    // Establecemos el estilo minimalista\n",
    "    boton.style.display = \"flex\";\n",
    "    boton.style.alignItems = \"center\";\n",
    "    boton.style.justifyContent = \"center\";\n",
    "    boton.style.padding = \"8px 12px\";\n",
    "    boton.style.marginTop = \"8px\";\n",
    "    boton.style.border = \"1px solid #ccc\";\n",
    "    boton.style.borderRadius = \"4px\";\n",
    "    boton.style.backgroundColor = \"#f0f0f0\";\n",
    "    boton.style.color = \"#333\";\n",
    "    boton.style.fontFamily = \"Arial, sans-serif\";\n",
    "    boton.style.fontSize = \"14px\";\n",
    "    boton.style.cursor = \"pointer\";\n",
    "    boton.style.transition = \"background-color 0.3s ease, transform 0.3s ease\";\n",
    "\n",
    "    // Efectos de hover\n",
    "    boton.addEventListener('mouseenter', function() {\n",
    "      boton.style.backgroundColor = \"#ddd\";\n",
    "      boton.style.transform = \"scale(1.05)\";\n",
    "    });\n",
    "\n",
    "    boton.addEventListener('mouseleave', function() {\n",
    "      boton.style.backgroundColor = \"#f0f0f0\";\n",
    "      boton.style.transform = \"scale(1)\";\n",
    "    });\n",
    "\n",
    "    // Agregamos el evento click al botón\n",
    "    boton.addEventListener(\"click\", function() {\n",
    "      copiarCodigo(\"mi-pre-\" + i);\n",
    "    });\n",
    "    \n",
    "    // Insertamos el botón después del bloque <pre>\n",
    "    preElemento.parentNode.insertBefore(boton, preElemento.nextSibling);\n",
    "  }\n",
    "</script>"
   ]
  }
 ],
 "metadata": {
  "kernelspec": {
   "display_name": "Python 3 (ipykernel)",
   "language": "python",
   "name": "python3"
  },
  "language_info": {
   "codemirror_mode": {
    "name": "ipython",
    "version": 3
   },
   "file_extension": ".py",
   "mimetype": "text/x-python",
   "name": "python",
   "nbconvert_exporter": "python",
   "pygments_lexer": "ipython3",
   "version": "3.13.2"
  }
 },
 "nbformat": 4,
 "nbformat_minor": 5
}
